{
 "cells": [
  {
   "cell_type": "markdown",
   "id": "bd546843-4d49-45df-b99c-8878a69b0ab7",
   "metadata": {},
   "source": [
    "# 铺瓷砖"
   ]
  },
  {
   "cell_type": "markdown",
   "id": "6e0ad67d-22df-4d37-8bd9-bd820d750338",
   "metadata": {},
   "source": [
    "![铺瓷砖](../picture/铺瓷砖.png)"
   ]
  },
  {
   "cell_type": "markdown",
   "id": "b4365cc5-5e49-4618-9519-fabdae9c976c",
   "metadata": {},
   "source": [
    "## 解题思路"
   ]
  },
  {
   "cell_type": "markdown",
   "id": "6146f4ec-2bf0-48f8-bad1-07fce768f7ad",
   "metadata": {},
   "source": [
    "铺满长度为N的区域所有不同的方法数等于将每种瓷砖当作第一块，后面铺满剩余长度的区域所有不同的方法数的和。\n",
    "基本结束条件：当N减去某一种瓷砖长度剩余区域长度变为0时，说明如果选用该种瓷砖就只有一种组合方法。此外利用函数值缓存来提高运行效率"
   ]
  },
  {
   "cell_type": "markdown",
   "id": "3f6710bc-38e1-4d8d-a2b9-ddfa44c741cc",
   "metadata": {
    "tags": []
   },
   "source": [
    "## 递归解法"
   ]
  },
  {
   "cell_type": "code",
   "execution_count": 10,
   "id": "eefb16ef-b3c3-44f1-98c4-656e3d803cc7",
   "metadata": {},
   "outputs": [
    {
     "name": "stdin",
     "output_type": "stream",
     "text": [
      " 6\n"
     ]
    },
    {
     "name": "stdout",
     "output_type": "stream",
     "text": [
      "29\n"
     ]
    }
   ],
   "source": [
    "def tile(sizeList, space, knownResults):\n",
    "    if space==0:\n",
    "        knownResults[space] = 1\n",
    "        return 1\n",
    "    elif knownResults[space]>0:\n",
    "        return knownResults[space]\n",
    "    else:\n",
    "        num = 0 \n",
    "        for i in [i for i in sizeList if i<=space]:\n",
    "            num += tile(sizeList, space-i, knownResults)\n",
    "        knownResults[space]=num\n",
    "        return num\n",
    "\n",
    "\n",
    "sizeList = [1,2,3,4]\n",
    "space = eval(input())\n",
    "knownResults =  [0] * (space + 1)\n",
    "print(tile(sizeList, space, knownResults))"
   ]
  },
  {
   "cell_type": "markdown",
   "id": "9a38cff3-ac57-472f-88b7-660959a41d3c",
   "metadata": {},
   "source": [
    "## 动态规划解法"
   ]
  },
  {
   "cell_type": "code",
   "execution_count": 25,
   "id": "0243e548-088a-4097-8f42-6e0fce7997b9",
   "metadata": {},
   "outputs": [
    {
     "name": "stdin",
     "output_type": "stream",
     "text": [
      " 6\n"
     ]
    },
    {
     "name": "stdout",
     "output_type": "stream",
     "text": [
      "29\n"
     ]
    }
   ],
   "source": [
    "m = {0:1, 1:1, 2:2, 3:4, 4: 8} \n",
    "def tile(space):\n",
    "    for i in range(5,space+1):\n",
    "        m[i] = m[i-1]+m[i-2]+m[i-3]+m[i-4]\n",
    "    return m[space]\n",
    "space = eval(input())\n",
    "print(tile(space))"
   ]
  },
  {
   "cell_type": "markdown",
   "id": "05429ae2-6410-44e8-a517-d824ac3111dd",
   "metadata": {},
   "source": [
    "# 分发糖果"
   ]
  },
  {
   "cell_type": "markdown",
   "id": "0dff1b85-b1ea-477d-b0de-13b97ab7bc08",
   "metadata": {},
   "source": [
    "![分发糖果](../picture/分发糖果.png)"
   ]
  },
  {
   "cell_type": "markdown",
   "id": "47ac295b-7d8d-454f-ad64-89eeae5cbd89",
   "metadata": {},
   "source": [
    "## 解题思路"
   ]
  },
  {
   "cell_type": "markdown",
   "id": "61f279ef-4116-4023-bbe1-f6302b3dd66c",
   "metadata": {},
   "source": [
    "最少的分配方案就是保证每位同学都比两边评分低的同学多一颗糖果，\n",
    "1. 先假设每一位同学都能分配一颗糖果，\n",
    "2. 接着从前往后判断每一位同学评分是否比前一位高，如果评分比前一位高就分配比前一位多一颗的糖果，否则保持糖果不变，当遍历结束后就可以保证每位同学都比前边评分低的同学多一颗糖果，\n",
    "3. 接着从后往前判断每一位同学评分是否比后一位高，如果评分比后一位高且糖果没有后一位多，就分配比后一位多一颗的糖果，否则保持糖果不变，当遍历结束后就可以保证每位同学都比两边评分低的同学多一颗糖果"
   ]
  },
  {
   "cell_type": "markdown",
   "id": "7091a47c-c38f-4e4b-9e59-af02aa8d3fea",
   "metadata": {},
   "source": [
    "## 答案"
   ]
  },
  {
   "cell_type": "code",
   "execution_count": 20,
   "id": "cf9b0f81-a85b-4733-ad16-28e5955ea672",
   "metadata": {},
   "outputs": [
    {
     "name": "stdin",
     "output_type": "stream",
     "text": [
      " [1,2,2,1]\n"
     ]
    },
    {
     "name": "stdout",
     "output_type": "stream",
     "text": [
      "6\n"
     ]
    }
   ],
   "source": [
    "def candy(ratings):\n",
    "    # code here\n",
    "    rewardList = [1]*len(ratings)\n",
    "    \n",
    "    for ind in range(len(ratings)):\n",
    "        if (ind>0) & (ratings[ind]>ratings[ind-1]):\n",
    "            rewardList[ind] = rewardList[ind-1] + 1\n",
    "    for ind in range(len(ratings)-2,-1,-1):\n",
    "        if ratings[ind]>ratings[ind+1] and rewardList[ind]<=rewardList[ind+1]:\n",
    "            rewardList[ind] = rewardList[ind+1]+1\n",
    "        \n",
    "    return sum(rewardList)\n",
    "        \n",
    "\n",
    "lst = eval(input())\n",
    "print(candy(lst))"
   ]
  },
  {
   "cell_type": "markdown",
   "id": "5b36571d-3a92-47c2-a91d-a9faddee534e",
   "metadata": {},
   "source": [
    "# 表达式按不同顺序求值"
   ]
  },
  {
   "cell_type": "markdown",
   "id": "8f1dd32f-0034-4a47-9a85-9de3e870b64f",
   "metadata": {},
   "source": [
    "![](../picture/表达式按不同顺序求值.png)"
   ]
  },
  {
   "cell_type": "markdown",
   "id": "5cc589db-34d1-4862-9103-2749066c2824",
   "metadata": {},
   "source": [
    "## 思路"
   ]
  },
  {
   "cell_type": "markdown",
   "id": "8739d674-faa8-46db-bd87-8ea7bc1e5ffb",
   "metadata": {},
   "source": [
    "可以用递归算法解决，\n",
    "1. 将每一个运算符看作运算顺序中最后一个运算符，\n",
    "2. 对其两侧表达式所有的可能的结果进行运算，\n",
    "3. 把结果存入集合中，该集合即为整个表达式的所有可能结果。\n",
    "\n",
    "基本结束条件：\n",
    "1. 当没有运算符时说明表达式只有一个数，表达式所有可能结果只有该数；\n",
    "2. 当只有一个运算符时，表达式所有可能结果只有一种，就是根据运算符对两个数进行对应运算的结果。\n",
    "\n",
    "记得在函数返回时要先对结果进行去重，这样可以节省总体的运算时间"
   ]
  },
  {
   "cell_type": "markdown",
   "id": "61439ce4-efd1-490c-b231-1f4c30e53565",
   "metadata": {},
   "source": [
    "## 参考答案"
   ]
  },
  {
   "cell_type": "code",
   "execution_count": 51,
   "id": "11eb5ae9-08ba-4ee5-814b-9a508da27909",
   "metadata": {},
   "outputs": [
    {
     "name": "stdin",
     "output_type": "stream",
     "text": [
      " 2*3-4*5\n"
     ]
    },
    {
     "name": "stdout",
     "output_type": "stream",
     "text": [
      "-34,-14,-10,10\n"
     ]
    }
   ],
   "source": [
    "def findWays(expr):\n",
    "    # 用于将字符串转为数字与运算符，供参考\n",
    "    nums, ops = [], []\n",
    "    num = 0\n",
    "    for c in expr:\n",
    "        if '0' <= c <= '9':\n",
    "            num = num * 10 + ord(c) - 48\n",
    "        else:\n",
    "            ops.append(c)\n",
    "            nums.append(num)\n",
    "            num = 0\n",
    "    else:\n",
    "        nums.append(num)\n",
    "    if len(nums)==1:\n",
    "        return nums[0]\n",
    "    # print(f'nums:{nums}')\n",
    "    # print(f'ops:{ops}')\n",
    "\n",
    "    def calc(nums, ops):\n",
    "        if not ops:\n",
    "            return [nums[0]]\n",
    "        elif len(ops) == 1:\n",
    "            return [eval(f'{nums[0]}{ops[0]}{nums[1]}')]\n",
    "        else:\n",
    "            res = []\n",
    "            for i in range(len(ops)):\n",
    "                for num1 in calc(nums[:i+1],ops[:i]):\n",
    "                    for num2 in calc(nums[i+1:], ops[i+1:]):\n",
    "                        res.append(eval(f'{num1}{ops[i]}{num2}'))\n",
    "            return sorted(list(set(res)))\n",
    "    res = calc(nums, ops)\n",
    "    return ','.join([str(i) for i in res])\n",
    "                                 \n",
    "\n",
    "expr=input()\n",
    "# expr = '2*3-4*5'\n",
    "print(findWays(expr))\n"
   ]
  },
  {
   "cell_type": "markdown",
   "id": "8d9c1ddd-e578-49da-950e-e230de2209a0",
   "metadata": {},
   "source": [
    "## 优化版答案"
   ]
  },
  {
   "cell_type": "code",
   "execution_count": 60,
   "id": "d55b14ce-6059-4ba5-85b4-8db80b45fd04",
   "metadata": {},
   "outputs": [
    {
     "name": "stdin",
     "output_type": "stream",
     "text": [
      " 2*3-4*5\n"
     ]
    },
    {
     "name": "stdout",
     "output_type": "stream",
     "text": [
      "-34,-14,-10,10\n"
     ]
    }
   ],
   "source": [
    "def findWays(expr):\n",
    "    # 用于将字符串转为数字与运算符，供参考\n",
    "    nums, ops = [], []\n",
    "    num = 0\n",
    "    for c in expr:\n",
    "        if '0' <= c <= '9':\n",
    "            num = num * 10 + ord(c) - 48\n",
    "        else:\n",
    "            ops.append(c)\n",
    "            nums.append(num)\n",
    "            num = 0\n",
    "    else:\n",
    "        nums.append(num)\n",
    "    if len(nums)==1:\n",
    "        return nums[0]\n",
    "    # print(f'nums:{nums}')\n",
    "    # print(f'ops:{ops}')\n",
    "\n",
    "    def calc(nums, ops):\n",
    "        # 基本结束条件\n",
    "        if not ops:\n",
    "            return [nums[0]]\n",
    "        else:\n",
    "            res = set()\n",
    "            for i in range(len(ops)):\n",
    "                # 缩小规模，调用自身\n",
    "                for N_l in calc(nums[:i+1],ops[:i]):\n",
    "                    for N_r in calc(nums[i+1:],ops[i+1:]):\n",
    "                        N = eval(f'{N_l}{ops[i]}{N_r}')\n",
    "                        res.add(N)\n",
    "        return sorted(list(res))\n",
    "                \n",
    "    res = calc(nums, ops)\n",
    "    return ','.join([str(i) for i in res])\n",
    "     \n",
    "expr=input()\n",
    "# expr = '2*3-4*5'\n",
    "print(findWays(expr))"
   ]
  },
  {
   "cell_type": "code",
   "execution_count": null,
   "id": "5825ee52-7ba4-4a67-bce1-effdbed0c93a",
   "metadata": {},
   "outputs": [],
   "source": []
  },
  {
   "cell_type": "code",
   "execution_count": null,
   "id": "796ed32c-0ff0-4a9e-8f3f-f81d64fa17fc",
   "metadata": {},
   "outputs": [],
   "source": []
  }
 ],
 "metadata": {
  "kernelspec": {
   "display_name": "Python 3 (ipykernel)",
   "language": "python",
   "name": "python3"
  },
  "language_info": {
   "codemirror_mode": {
    "name": "ipython",
    "version": 3
   },
   "file_extension": ".py",
   "mimetype": "text/x-python",
   "name": "python",
   "nbconvert_exporter": "python",
   "pygments_lexer": "ipython3",
   "version": "3.8.12"
  },
  "toc-autonumbering": true
 },
 "nbformat": 4,
 "nbformat_minor": 5
}
