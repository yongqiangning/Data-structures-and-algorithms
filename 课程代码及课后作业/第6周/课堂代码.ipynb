{
 "cells": [
  {
   "cell_type": "markdown",
   "id": "ddecf4dc-39b2-4823-836b-5fc379e19370",
   "metadata": {},
   "source": [
    "# 410-找零兑换问题的递归解法"
   ]
  },
  {
   "cell_type": "markdown",
   "id": "4b9b00bb-0e14-48b5-af42-697380488d96",
   "metadata": {},
   "source": [
    "## 找零问题：递归解法\n",
    "直接使用递归调用的解法，问题是极其低效，63分的兑换硬币问题需要进行67，716，925次递归调用"
   ]
  },
  {
   "cell_type": "code",
   "execution_count": 7,
   "id": "3c144bd6-1ef7-41c7-b86d-41c6d745e675",
   "metadata": {},
   "outputs": [
    {
     "name": "stdout",
     "output_type": "stream",
     "text": [
      "6\n"
     ]
    },
    {
     "data": {
      "text/plain": [
       "24.192595958709717"
      ]
     },
     "execution_count": 7,
     "metadata": {},
     "output_type": "execute_result"
    }
   ],
   "source": [
    "def recMC(coinValueList, change):\n",
    "    minCoins = change\n",
    "    if change in coinValueList:\n",
    "        return 1 \n",
    "    else:\n",
    "        for i in [c for c in coinValueList if c<=change]:\n",
    "            numCoins = 1 + recMC(coinValueList, change-i) \n",
    "            if numCoins < minCoins:\n",
    "                minCoins = numCoins\n",
    "    return minCoins\n",
    "\n",
    "import time\n",
    "t1 = time.time()\n",
    "print(recMC([1,5,10,25], 63))\n",
    "time.time() - t1"
   ]
  },
  {
   "cell_type": "markdown",
   "id": "bf637d3a-c173-45fa-8c53-8e0c731b8430",
   "metadata": {},
   "source": [
    "## 找零兑换问题：递归解法的改进"
   ]
  },
  {
   "cell_type": "code",
   "execution_count": 6,
   "id": "72029442-2f6d-4f9e-8ee4-2ddc4f45b6ba",
   "metadata": {},
   "outputs": [
    {
     "name": "stdout",
     "output_type": "stream",
     "text": [
      "6\n"
     ]
    },
    {
     "data": {
      "text/plain": [
       "0.0010807514190673828"
      ]
     },
     "execution_count": 6,
     "metadata": {},
     "output_type": "execute_result"
    }
   ],
   "source": [
    "def recDC(coinValueList, change, knownResults):\n",
    "    minCoins = change\n",
    "    if change in coinValueList:\n",
    "        knownResults[change] = 1\n",
    "        return 1\n",
    "    elif knownResults[change]>0:\n",
    "        return knownResults[change]\n",
    "    else:\n",
    "        for i in [c for c in coinValueList if c<=change]:\n",
    "            numCoins = 1+recDC(coinValueList, change-i, knownResults)\n",
    "            if numCoins < minCoins:\n",
    "                minCoins = numCoins\n",
    "                knownResults[change] = minCoins\n",
    "    return minCoins\n",
    "\n",
    "import time\n",
    "t1 = time.time()\n",
    "print(recDC([1,5,10,25], 63,[0]*64))\n",
    "time.time() - t1"
   ]
  },
  {
   "cell_type": "markdown",
   "id": "76e3b5e0-63f2-408c-b2d0-08f25b7393f0",
   "metadata": {},
   "source": [
    "# 411-找零兑换问题的动态规划解法"
   ]
  },
  {
   "cell_type": "markdown",
   "id": "ccf31a48-d34c-42d0-80b9-dc0503671a9b",
   "metadata": {},
   "source": [
    "## 找零兑换：动态规划算法代码"
   ]
  },
  {
   "cell_type": "code",
   "execution_count": 8,
   "id": "838521ee-3df6-4348-8600-b150723ea777",
   "metadata": {},
   "outputs": [
    {
     "name": "stdout",
     "output_type": "stream",
     "text": [
      "3\n"
     ]
    },
    {
     "data": {
      "text/plain": [
       "0.0010509490966796875"
      ]
     },
     "execution_count": 8,
     "metadata": {},
     "output_type": "execute_result"
    }
   ],
   "source": [
    "def dpMakeChange(coinValueList, change, minCoins):\n",
    "    # 从1分开始到change， 逐个计算最少硬币数\n",
    "    for cents in range(1,change+1):\n",
    "        # 初始化最大值等于cents \n",
    "        coinCount = cents\n",
    "        # 减去每个硬币，向后查最少硬币数，同时记录总的最少记录数\n",
    "        for j in [c for c in coinValueList if c<= cents]:\n",
    "            if minCoins[cents-j] +1 < coinCount:\n",
    "                coinCount = minCoins[cents-j] +1\n",
    "        # 得到当前最少硬币数，记录到表中\n",
    "        minCoins[cents] = coinCount\n",
    "    return minCoins[change]\n",
    "\n",
    "import time\n",
    "t1 = time.time()\n",
    "print(dpMakeChange([1,5,10,21,25], 63,[0]*64))\n",
    "time.time() - t1"
   ]
  },
  {
   "cell_type": "markdown",
   "id": "b52978f0-492e-41e2-8df9-f6a06156bfe9",
   "metadata": {},
   "source": [
    "## 找零兑换：动态规划算法扩展代码"
   ]
  },
  {
   "cell_type": "code",
   "execution_count": 15,
   "id": "023a1ef8-f09e-461d-8802-bd34cb718cd0",
   "metadata": {},
   "outputs": [
    {
     "name": "stdout",
     "output_type": "stream",
     "text": [
      "Making change for 63 requires\n",
      "3\n",
      "They are:\n",
      "21\n",
      "21\n",
      "21\n",
      "[0, 1, 1, 1, 1, 5, 1, 1, 1, 1, 10, 1, 1, 1, 1, 5, 1, 1, 1, 1, 10, 21, 1, 1, 1, 25, 1, 1, 1, 1, 5, 10, 1, 1, 1, 10, 1, 1, 1, 1, 5, 10, 21, 1, 1, 10, 21, 1, 1, 1, 25, 1, 10, 1, 1, 5, 10, 1, 1, 1, 10, 1, 10, 21]\n"
     ]
    }
   ],
   "source": [
    "def dpMakeChange(coinValueList, change, minCoins, coinsUsed):\n",
    "    for cents in range(1, change+1):\n",
    "        coinCount = cents\n",
    "        newCoin = 1 # 初始化新加硬币\n",
    "        for j in [c for c in coinValueList if c<=cents]:\n",
    "            if minCoins[cents-j]+1 <coinCount:\n",
    "                coinCount = minCoins[cents-j]+1\n",
    "                newCoin = j \n",
    "        minCoins[cents] = coinCount\n",
    "        coinsUsed[cents] = newCoin\n",
    "    return minCoins[change]\n",
    "\n",
    "\n",
    "def printCoins(coinUsed, change):\n",
    "    coin = change\n",
    "    while coin >0:\n",
    "        thisCoin = coinUsed[coin]\n",
    "        print(thisCoin)\n",
    "        coin -= thisCoin\n",
    "\n",
    "amnt = 63\n",
    "clist = [1,5,10,21,25]\n",
    "coinUsed = [0]*(amnt+1)\n",
    "coinCount = [0]*(amnt+1)\n",
    "print(f'Making change for {amnt} requires')\n",
    "print(dpMakeChange(clist, amnt, coinCount, coinUsed))\n",
    "print('They are:')\n",
    "printCoins(coinUsed,amnt)\n",
    "print(coinUsed)\n",
    "        "
   ]
  },
  {
   "cell_type": "code",
   "execution_count": 13,
   "id": "faa3c04b-1166-4f3e-8791-1c142eb78f0c",
   "metadata": {},
   "outputs": [
    {
     "data": {
      "text/plain": [
       "64"
      ]
     },
     "execution_count": 13,
     "metadata": {},
     "output_type": "execute_result"
    }
   ],
   "source": [
    "len(coinUsed)"
   ]
  },
  {
   "cell_type": "code",
   "execution_count": null,
   "id": "4252056c-619b-4522-86a7-cf353fab225a",
   "metadata": {},
   "outputs": [],
   "source": []
  },
  {
   "cell_type": "code",
   "execution_count": null,
   "id": "6839404f-ca36-417f-bed8-b9d29c7ab17a",
   "metadata": {},
   "outputs": [],
   "source": []
  },
  {
   "cell_type": "code",
   "execution_count": null,
   "id": "c120dcd3-eef0-4e64-bbcb-78351c52c73c",
   "metadata": {},
   "outputs": [],
   "source": []
  }
 ],
 "metadata": {
  "kernelspec": {
   "display_name": "Python 3 (ipykernel)",
   "language": "python",
   "name": "python3"
  },
  "language_info": {
   "codemirror_mode": {
    "name": "ipython",
    "version": 3
   },
   "file_extension": ".py",
   "mimetype": "text/x-python",
   "name": "python",
   "nbconvert_exporter": "python",
   "pygments_lexer": "ipython3",
   "version": "3.8.12"
  },
  "toc-autonumbering": true
 },
 "nbformat": 4,
 "nbformat_minor": 5
}
