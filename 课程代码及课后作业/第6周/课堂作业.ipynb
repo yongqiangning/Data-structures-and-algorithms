{
 "cells": [
  {
   "cell_type": "markdown",
   "id": "d63b5798-3c56-4d40-92f0-d0d9dc374c5c",
   "metadata": {},
   "source": [
    "# 博物馆大盗问题\n",
    "1. 给定一个宝物列表treasureList = [{'w': 2,'v': 3}, {'w': 3,'v': 4}, ...]\n",
    "    - 注意：每样宝物只有1个。\n",
    "    - 这样treasureList[0]['w']就是第一件宝物的重量，等等\n",
    "\n",
    "2. 给定包裹最多承重maxWeight > 0\n",
    "\n",
    "实现一个函数，根据以上条件得到最高总价值以及对应的宝物\n"
   ]
  },
  {
   "cell_type": "code",
   "execution_count": 6,
   "id": "73dad0ea-e207-4d05-8e8d-d4f0f7924435",
   "metadata": {},
   "outputs": [],
   "source": [
    "\n",
    "def dpMuseumThief(treasureList, maxWeight):\n",
    "    \"\"\"\n",
    "    实现一个函数，得到最高总价值以及对应的宝物\n",
    "    treasureList: 宝物列表,格式为[{'w': 2,'v': 3}, {'w': 3,'v': 4}, ...]\n",
    "    maxWeight: 背包最大承重, 数字型\n",
    "    return：最大总价值maxValue，选取的宝物列表choosenList(格式同treasureList)\n",
    "    \"\"\"\n",
    "    maxValue = 0\n",
    "    choosenList = []\n",
    "    tr=[None]+treasureList\n",
    "    # 初始化一个二维表格\n",
    "    m = {(i,w):[0,None] for i in range(len(tr))\n",
    "                for w in range(maxWeight+1)}\n",
    "    #逐个填写二维表格\n",
    "    for i in range(1,len(tr)):\n",
    "        for w in range(maxWeight+1):\n",
    "            if tr[i]['w']>w:\n",
    "                m[(i,w)][0] = m[(i-1),w][0]\n",
    "            else:\n",
    "                if m[(i-1,w-tr[i]['w'])][0]+tr[i]['v']>m[i-1,w][0]:\n",
    "                    m[(i,w)][0] = m[(i-1,w-tr[i]['w'])][0]+tr[i]['v']\n",
    "                    m[(i,w)][1] = tr[i]\n",
    "                    \n",
    "                else:\n",
    "                    m[(i,w)][0] = m[(i-1),w][0]\n",
    "                \n",
    "    maxValue = m[len(tr)-1,maxWeight][0]  \n",
    "    \n",
    "    Weight = maxWeight\n",
    "    while Weight >0:\n",
    "        if m[(i,w)][1] is not None:\n",
    "            choosenList.insert(0,m[i,w][1])\n",
    "            Weight -= m[(i,w)][1]['w']\n",
    "        i -=1\n",
    "    # 代码结束\n",
    "\n",
    "    return maxValue, choosenList"
   ]
  },
  {
   "cell_type": "code",
   "execution_count": 7,
   "id": "a298e978-ac15-4ba7-b399-2788bed400be",
   "metadata": {},
   "outputs": [
    {
     "name": "stdout",
     "output_type": "stream",
     "text": [
      "=========== 1 博物馆大盗问题 ============\n",
      "29\n",
      "[{'w': 3, 'v': 4}, {'w': 4, 'v': 8}, {'w': 5, 'v': 8}, {'w': 9, 'v': 10}]\n",
      "83\n",
      "[{'w': 6, 'v': 10}, {'w': 7, 'v': 10}, {'w': 7, 'v': 12}, {'w': 8, 'v': 12}, {'w': 8, 'v': 13}, {'w': 9, 'v': 14}, {'w': 9, 'v': 16}]\n",
      "139\n",
      "[{'w': 6, 'v': 10}, {'w': 7, 'v': 11}, {'w': 7, 'v': 12}, {'w': 8, 'v': 13}, {'w': 8, 'v': 14}, {'w': 9, 'v': 15}, {'w': 9, 'v': 16}, {'w': 9, 'v': 17}, {'w': 10, 'v': 17}, {'w': 10, 'v': 18}]\n",
      "164\n",
      "[{'w': 8, 'v': 13}, {'w': 9, 'v': 14}, {'w': 9, 'v': 15}, {'w': 9, 'v': 16}, {'w': 10, 'v': 16}, {'w': 10, 'v': 17}, {'w': 11, 'v': 18}, {'w': 12, 'v': 19}, {'w': 13, 'v': 21}, {'w': 14, 'v': 22}]\n",
      "246\n",
      "[{'w': 10, 'v': 17}, {'w': 11, 'v': 18}, {'w': 11, 'v': 19}, {'w': 12, 'v': 20}, {'w': 13, 'v': 20}, {'w': 13, 'v': 21}, {'w': 14, 'v': 21}, {'w': 14, 'v': 22}, {'w': 14, 'v': 23}, {'w': 15, 'v': 24}, {'w': 15, 'v': 25}, {'w': 16, 'v': 26}]\n"
     ]
    }
   ],
   "source": [
    "# 检验\n",
    "print(\"=========== 1 博物馆大盗问题 ============\")\n",
    "treasureList = [[{'w':2, 'v':3}, {'w':3, 'v':4}, {'w':4, 'v':8}, {'w':5, 'v':8}, {'w':9, 'v':10}]]\n",
    "treasureList.append([{'w':1, 'v':2}, {'w':2, 'v':2}, {'w':2, 'v':3}, {'w':4, 'v':5}, {'w':4, 'v':6}, {'w':4, 'v':7}, {'w':5, 'v':7},\n",
    "                     {'w':5, 'v':8}, {'w':6, 'v':8}, {'w':6, 'v':10}, {'w':7, 'v':10}, {'w':7, 'v':12}, {'w':8, 'v':12}, {'w':8, 'v':13}, {'w':9, 'v':14}, {'w':9, 'v':16}])\n",
    "treasureList.append([{'w':1, 'v':2}, {'w':2, 'v':2}, {'w':2, 'v':3}, {'w':3, 'v':4}, {'w':3, 'v':5}, {'w':4, 'v':6}, {'w':4, 'v':7},\n",
    "                     {'w':5, 'v':7}, {'w':5, 'v':8}, {'w':6, 'v':8}, {'w':6, 'v':10}, {'w':7, 'v':11}, {'w':7, 'v':12}, {'w':8, 'v':13},\n",
    "                     {'w':8, 'v':14}, {'w':9, 'v':15}, {'w':9, 'v':16}, {'w':9, 'v':17}, {'w':10, 'v':17}, {'w':10, 'v':18}, {'w':11, 'v':18}])\n",
    "treasureList.append([{'w':1, 'v':2}, {'w':2, 'v':2}, {'w':2, 'v':3}, {'w':3, 'v':4}, {'w':3, 'v':5}, {'w':4, 'v':5}, {'w':4, 'v':6},\n",
    "                     {'w':5, 'v':6}, {'w':5, 'v':7}, {'w':6, 'v':8}, {'w':6, 'v':9}, {'w':7, 'v':10}, {'w':7, 'v':11}, {'w':8, 'v':12},\n",
    "                     {'w':8, 'v':13}, {'w':9, 'v':14}, {'w':9, 'v':15}, {'w':9, 'v':16}, {'w':10, 'v':16}, {'w':10, 'v':17}, {'w':11, 'v':18},\n",
    "                     {'w': 12, 'v': 18}, {'w': 12, 'v': 19}, {'w': 13, 'v': 20}, {'w': 13, 'v': 21}, {'w': 14, 'v': 21}, {'w': 14, 'v': 22}])\n",
    "treasureList.append([{'w':1, 'v':2}, {'w':2, 'v':2}, {'w':2, 'v':3}, {'w':3, 'v':4}, {'w':3, 'v':5}, {'w':4, 'v':5}, {'w':4, 'v':6},\n",
    "                     {'w':5, 'v':6}, {'w':5, 'v':7}, {'w':6, 'v':8}, {'w':6, 'v':9}, {'w':7, 'v':9}, {'w':7, 'v':10}, {'w':8, 'v':11},\n",
    "                     {'w':8, 'v':12}, {'w':9, 'v':13}, {'w':9, 'v':14}, {'w':9, 'v':15}, {'w':10, 'v':16}, {'w':10, 'v':17}, {'w':11, 'v':18},\n",
    "                     {'w': 11, 'v': 19}, {'w': 12, 'v': 20}, {'w': 13, 'v': 20}, {'w': 13, 'v': 21}, {'w': 14, 'v': 21}, {'w': 14, 'v': 22},\n",
    "                     {'w': 14, 'v': 23}, {'w': 15, 'v': 24},{'w': 15, 'v': 25}, {'w': 16, 'v': 26},{'w': 17, 'v': 27}, {'w': 18, 'v': 28}])\n",
    "\n",
    "maxWeightList = [20, 50, 80, 100, 150]\n",
    "for i in range(len(treasureList)):\n",
    "    maxValue, choosenList = dpMuseumThief(treasureList[i], maxWeightList[i])\n",
    "    print(maxValue)\n",
    "    print(choosenList)"
   ]
  },
  {
   "cell_type": "code",
   "execution_count": null,
   "id": "aada063a-df6d-43a2-8717-48f16feaab19",
   "metadata": {},
   "outputs": [],
   "source": []
  }
 ],
 "metadata": {
  "kernelspec": {
   "display_name": "Python 3 (ipykernel)",
   "language": "python",
   "name": "python3"
  },
  "language_info": {
   "codemirror_mode": {
    "name": "ipython",
    "version": 3
   },
   "file_extension": ".py",
   "mimetype": "text/x-python",
   "name": "python",
   "nbconvert_exporter": "python",
   "pygments_lexer": "ipython3",
   "version": "3.8.12"
  }
 },
 "nbformat": 4,
 "nbformat_minor": 5
}
