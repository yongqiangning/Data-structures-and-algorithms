{
 "cells": [
  {
   "cell_type": "markdown",
   "id": "d63b5798-3c56-4d40-92f0-d0d9dc374c5c",
   "metadata": {},
   "source": [
    "# 博物馆大盗问题\n",
    "1. 给定一个宝物列表treasureList = [{'w': 2,'v': 3}, {'w': 3,'v': 4}, ...]\n",
    "    - 注意：每样宝物只有1个。\n",
    "    - 这样treasureList[0]['w']就是第一件宝物的重量，等等\n",
    "\n",
    "2. 给定包裹最多承重maxWeight > 0\n",
    "\n",
    "实现一个函数，根据以上条件得到最高总价值以及对应的宝物\n"
   ]
  },
  {
   "cell_type": "code",
   "execution_count": 6,
   "id": "73dad0ea-e207-4d05-8e8d-d4f0f7924435",
   "metadata": {},
   "outputs": [],
   "source": [
    "\n",
    "def dpMuseumThief(treasureList, maxWeight):\n",
    "    \"\"\"\n",
    "    实现一个函数，得到最高总价值以及对应的宝物\n",
    "    treasureList: 宝物列表,格式为[{'w': 2,'v': 3}, {'w': 3,'v': 4}, ...]\n",
    "    maxWeight: 背包最大承重, 数字型\n",
    "    return：最大总价值maxValue，选取的宝物列表choosenList(格式同treasureList)\n",
    "    \"\"\"\n",
    "    maxValue = 0\n",
    "    choosenList = []\n",
    "    tr=[None]+treasureList\n",
    "    # 初始化一个二维表格\n",
    "    m = {(i,w):[0,None] for i in range(len(tr))\n",
    "                for w in range(maxWeight+1)}\n",
    "    #逐个填写二维表格\n",
    "    for i in range(1,len(tr)):\n",
    "        for w in range(maxWeight+1):\n",
    "            if tr[i]['w']>w:\n",
    "                m[(i,w)][0] = m[(i-1),w][0]\n",
    "            else:\n",
    "                if m[(i-1,w-tr[i]['w'])][0]+tr[i]['v']>m[i-1,w][0]:\n",
    "                    m[(i,w)][0] = m[(i-1,w-tr[i]['w'])][0]+tr[i]['v']\n",
    "                    m[(i,w)][1] = tr[i]\n",
    "                    \n",
    "                else:\n",
    "                    m[(i,w)][0] = m[(i-1),w][0]\n",
    "                \n",
    "    maxValue = m[len(tr)-1,maxWeight][0]  \n",
    "    \n",
    "    Weight = maxWeight\n",
    "    while Weight >0:\n",
    "        if m[(i,w)][1] is not None:\n",
    "            choosenList.insert(0,m[i,w][1])\n",
    "            Weight -= m[(i,w)][1]['w']\n",
    "        i -=1\n",
    "    # 代码结束\n",
    "\n",
    "    return maxValue, choosenList"
   ]
  },
  {
   "cell_type": "code",
   "execution_count": 46,
   "id": "a298e978-ac15-4ba7-b399-2788bed400be",
   "metadata": {},
   "outputs": [
    {
     "name": "stdout",
     "output_type": "stream",
     "text": [
      "=========== 1 博物馆大盗问题 ============\n",
      "29\n",
      "[{'w': 3, 'v': 4}, {'w': 4, 'v': 8}, {'w': 5, 'v': 8}, {'w': 9, 'v': 10}]\n"
     ]
    }
   ],
   "source": [
    "# 检验\n",
    "print(\"=========== 1 博物馆大盗问题 ============\")\n",
    "treasureList = [[{'w':2, 'v':3}, {'w':3, 'v':4}, {'w':4, 'v':8}, {'w':5, 'v':8}, {'w':9, 'v':10}]]\n",
    "treasureList.append([{'w':1, 'v':2}, {'w':2, 'v':2}, {'w':2, 'v':3}, {'w':4, 'v':5}, {'w':4, 'v':6}, {'w':4, 'v':7}, {'w':5, 'v':7},\n",
    "                     {'w':5, 'v':8}, {'w':6, 'v':8}, {'w':6, 'v':10}, {'w':7, 'v':10}, {'w':7, 'v':12}, {'w':8, 'v':12}, {'w':8, 'v':13}, {'w':9, 'v':14}, {'w':9, 'v':16}])\n",
    "treasureList.append([{'w':1, 'v':2}, {'w':2, 'v':2}, {'w':2, 'v':3}, {'w':3, 'v':4}, {'w':3, 'v':5}, {'w':4, 'v':6}, {'w':4, 'v':7},\n",
    "                     {'w':5, 'v':7}, {'w':5, 'v':8}, {'w':6, 'v':8}, {'w':6, 'v':10}, {'w':7, 'v':11}, {'w':7, 'v':12}, {'w':8, 'v':13},\n",
    "                     {'w':8, 'v':14}, {'w':9, 'v':15}, {'w':9, 'v':16}, {'w':9, 'v':17}, {'w':10, 'v':17}, {'w':10, 'v':18}, {'w':11, 'v':18}])\n",
    "treasureList.append([{'w':1, 'v':2}, {'w':2, 'v':2}, {'w':2, 'v':3}, {'w':3, 'v':4}, {'w':3, 'v':5}, {'w':4, 'v':5}, {'w':4, 'v':6},\n",
    "                     {'w':5, 'v':6}, {'w':5, 'v':7}, {'w':6, 'v':8}, {'w':6, 'v':9}, {'w':7, 'v':10}, {'w':7, 'v':11}, {'w':8, 'v':12},\n",
    "                     {'w':8, 'v':13}, {'w':9, 'v':14}, {'w':9, 'v':15}, {'w':9, 'v':16}, {'w':10, 'v':16}, {'w':10, 'v':17}, {'w':11, 'v':18},\n",
    "                     {'w': 12, 'v': 18}, {'w': 12, 'v': 19}, {'w': 13, 'v': 20}, {'w': 13, 'v': 21}, {'w': 14, 'v': 21}, {'w': 14, 'v': 22}])\n",
    "treasureList.append([{'w':1, 'v':2}, {'w':2, 'v':2}, {'w':2, 'v':3}, {'w':3, 'v':4}, {'w':3, 'v':5}, {'w':4, 'v':5}, {'w':4, 'v':6},\n",
    "                     {'w':5, 'v':6}, {'w':5, 'v':7}, {'w':6, 'v':8}, {'w':6, 'v':9}, {'w':7, 'v':9}, {'w':7, 'v':10}, {'w':8, 'v':11},\n",
    "                     {'w':8, 'v':12}, {'w':9, 'v':13}, {'w':9, 'v':14}, {'w':9, 'v':15}, {'w':10, 'v':16}, {'w':10, 'v':17}, {'w':11, 'v':18},\n",
    "                     {'w': 11, 'v': 19}, {'w': 12, 'v': 20}, {'w': 13, 'v': 20}, {'w': 13, 'v': 21}, {'w': 14, 'v': 21}, {'w': 14, 'v': 22},\n",
    "                     {'w': 14, 'v': 23}, {'w': 15, 'v': 24},{'w': 15, 'v': 25}, {'w': 16, 'v': 26},{'w': 17, 'v': 27}, {'w': 18, 'v': 28}])\n",
    "\n",
    "maxWeightList = [20, 50, 80, 100, 150]\n",
    "for i in range(len(treasureList)):\n",
    "    maxValue, choosenList = dpMuseumThief(treasureList[i], maxWeightList[i])\n",
    "    print(maxValue)\n",
    "    print(choosenList)\n",
    "    break\n",
    "    "
   ]
  },
  {
   "cell_type": "markdown",
   "id": "4aad08bf-8554-444b-a787-8ac4e8c8bcd6",
   "metadata": {},
   "source": [
    "# 单词最小编辑距离问题\n",
    "实现一个函数，给定两个单词，得出从源单词变到目标单词所需要的最小编辑距离，返回总得分与编辑操作过程<br>\n",
    "可以进行的操作有：<br>\n",
    ">1. 从源单词复制一个字母到目标单词<br>\n",
    ">2. 从源单词删除一个字母<br>\n",
    ">3. 在目标单词插入一个字母<br>\n",
    "\n",
    "参数：<br>\n",
    ">两个字符串，即源单词original与目标单词target，以及不同操作对应的分值，即一个字典<br>\n",
    "\n",
    "返回值：<br>\n",
    ">一个整数与一个列表，最低的分数与操作过程，示例见检验<br>\n",
    "\n",
    "编辑操作过程不一定唯一，给出一种满足条件的操作过程即可"
   ]
  },
  {
   "cell_type": "markdown",
   "id": "721e4fe7-9c82-424d-acf7-917dccad4703",
   "metadata": {},
   "source": [
    "## 思路"
   ]
  },
  {
   "cell_type": "markdown",
   "id": "9533b57d-0ad2-480a-978e-1d9d13556294",
   "metadata": {},
   "source": [
    "![单词最短编辑距离思路](../picture/单词最短编辑距离思路.png)"
   ]
  },
  {
   "cell_type": "markdown",
   "id": "8aa704eb-d251-4eb2-9dad-f36c49615104",
   "metadata": {},
   "source": [
    "## 代码一：动态规划"
   ]
  },
  {
   "cell_type": "code",
   "execution_count": 143,
   "id": "daffa1ca-a9b5-4265-9690-87883100dd6a",
   "metadata": {},
   "outputs": [],
   "source": [
    "def dpWordEdit(original, target, oplist):\n",
    "    score = 0\n",
    "    operations = []\n",
    "    operations_d = {}\n",
    "    # 请在此编写你的代码（可删除pass语句）\n",
    "    orlen=len(original)\n",
    "    talen=len(target)\n",
    "    myScoreList=[[0 for j in range(talen+1)] for i in range(orlen+1) ]\n",
    "    \n",
    "    for j in range(talen+1):\n",
    "        # print(0,j,end=' | ')\n",
    "        myScoreList[0][j]=j*oplist['insert']\n",
    "        if j>0:\n",
    "            # print(f'\"\"-->{target[:j]}')\n",
    "            operations = operations_d.get((0,j-1),[]).copy()\n",
    "            operations.append('insert %s'%target[j-1])\n",
    "            operations_d[(0,j)] = operations \n",
    "        # else:\n",
    "            # print('\"\"-->\"\"')\n",
    "            # print(operations_d.get((0,j),[]))\n",
    "        \n",
    "    for i in range(orlen+1):\n",
    "        # print(i,0,end=' | ')\n",
    "        myScoreList[i][0]=i*oplist['delete']\n",
    "        if i>0:\n",
    "            # print(f'{original[:i]}-->\"\"')\n",
    "            operations = operations_d.get((i-1,0),[]).copy()\n",
    "            operations.append('delete %s'%original[i-1])\n",
    "            operations_d[(i,0)] = operations \n",
    "        # else:\n",
    "            # print('\"\"-->\"\"')\n",
    "        # print(operations_d.get((i,0),[]))\n",
    "    \n",
    "    for i in range(1,orlen+1):\n",
    "        for j in range(1,talen+1):\n",
    "            # print(f'{i},{j} | {original[:i]}-->{target[:j]}')\n",
    "            delete=myScoreList[i-1][j]+oplist['delete']\n",
    "            insert=myScoreList[i][j-1]+oplist['insert']\n",
    "            copy=myScoreList[i-1][j-1]+oplist['copy']\n",
    "            \n",
    "            \n",
    "            if original[i-1]==target[j-1] and ((copy < delete) and (copy<insert)):\n",
    "                operations = operations_d.get((i-1,j-1),[]).copy()\n",
    "                myScoreList[i][j]=copy\n",
    "                operations.append('copy %s'%original[i-1])\n",
    "            elif insert<delete:\n",
    "                operations = operations_d.get((i,j-1),[]).copy()\n",
    "                myScoreList[i][j]=insert\n",
    "                operations.append('insert %s'%target[j-1])\n",
    "            else :\n",
    "                operations = operations_d.get((i-1,j),[]).copy()\n",
    "                myScoreList[i][j]=delete\n",
    "                operations.append('delete %s'%original[i-1])\n",
    "            \n",
    "            operations_d[(i,j)] = operations  \n",
    "            # print(operations_d.get((i,j),[]))\n",
    "    score=myScoreList[orlen][talen]\n",
    "                    \n",
    "    # 代码结束\n",
    "\n",
    "    return score, operations\n",
    "   "
   ]
  },
  {
   "cell_type": "markdown",
   "id": "ada63901-5e41-40c0-be40-0b7efb000b03",
   "metadata": {},
   "source": [
    "## 检验"
   ]
  },
  {
   "cell_type": "code",
   "execution_count": 144,
   "id": "191e2591-9fea-45fd-8eea-bb91bf76986c",
   "metadata": {},
   "outputs": [
    {
     "name": "stdout",
     "output_type": "stream",
     "text": [
      "========= 2 单词最小编辑距离问题 =========\n",
      "cane --> new score: 70\n",
      "\t['delete c', 'delete a', 'copy n', 'copy e', 'insert w']\n",
      "sheep --> sleep score: 60\n",
      "\t['copy s', 'insert l', 'delete h', 'copy e', 'copy e', 'copy p']\n",
      "algorithm --> alligator score: 185\n",
      "\t['copy a', 'copy l', 'insert l', 'insert i', 'copy g', 'insert a', 'insert t', 'copy o', 'copy r', 'delete i', 'delete t', 'delete h', 'delete m']\n",
      "debug --> release score: 205\n",
      "\t['insert r', 'delete d', 'copy e', 'insert l', 'insert e', 'insert a', 'insert s', 'insert e', 'delete b', 'delete u', 'delete g']\n",
      "difficult --> sniffing score: 200\n",
      "\t['insert s', 'insert n', 'delete d', 'copy i', 'copy f', 'copy f', 'copy i', 'insert n', 'insert g', 'delete c', 'delete u', 'delete l', 'delete t']\n",
      "directory --> framework score: 220\n",
      "\t['insert f', 'delete d', 'delete i', 'copy r', 'insert a', 'insert m', 'copy e', 'insert w', 'delete c', 'delete t', 'copy o', 'copy r', 'insert k', 'delete y']\n",
      "wonderful --> terrific score: 235\n",
      "\t['insert t', 'delete w', 'delete o', 'delete n', 'delete d', 'copy e', 'copy r', 'insert r', 'insert i', 'copy f', 'insert i', 'insert c', 'delete u', 'delete l']\n"
     ]
    }
   ],
   "source": [
    "\n",
    "print(\"========= 2 单词最小编辑距离问题 =========\")\n",
    "oplist = {'copy': 5, 'delete': 20, 'insert': 20}\n",
    "# oplist =  {'copy':5, 'delete':10, 'insert':15}\n",
    "# oplist = {'copy':10, 'delete':25, 'insert':20}\n",
    "originalWords = [\n",
    "    \"cane\", \"sheep\", \"algorithm\", \"debug\", \"difficult\", \"directory\",\n",
    "    \"wonderful\"\n",
    "]\n",
    "targetWords = [\n",
    "    \"new\", \"sleep\", \"alligator\", \"release\", \"sniffing\", \"framework\", \"terrific\"\n",
    "]\n",
    "\n",
    "for i in range(len(originalWords)):\n",
    "    print(f'{originalWords[i]} --> {targetWords[i]}',end=\" score: \")\n",
    "    score, operations = dpWordEdit(originalWords[i], targetWords[i], oplist)\n",
    "    \n",
    "    print(score,end='\\n\\t')\n",
    "    print(operations)\n",
    "    \n",
    "    "
   ]
  },
  {
   "cell_type": "markdown",
   "id": "e4ca9b0f-dfb0-4436-85ac-985d08f237cb",
   "metadata": {},
   "source": [
    "## 代码二：递归"
   ]
  },
  {
   "cell_type": "code",
   "execution_count": 145,
   "id": "de4ee4e2-987a-4494-b74d-c41c1e7004aa",
   "metadata": {},
   "outputs": [],
   "source": [
    "\n",
    "def dpWordEditScore(original, target,i,j,oplist):\n",
    "    if i ==0:\n",
    "        operations.append(f'insert {target[j-1]}')\n",
    "        WordEditScore[(0,j)] = j*oplist['insert']  # 存储在记录分数的字典里\n",
    "        return WordEditScore[(0,j)]\n",
    "    elif j == 0: # 目标单词为空,只需delete原单词的前i个字母\n",
    "        operations.append(f'delete {original[i-1]}')\n",
    "        WordEditScore[(i,0)] = i*oplist['delete']\n",
    "        return WordEditScore[(i,0)]\n",
    "    else:\n",
    "        # 记录分数的字典中已存在结果\n",
    "        if (i-1,j) in WordEditScore:\n",
    "            delete = WordEditScore[(i-1,j)] + oplist['delete']\n",
    "        else:\n",
    "            delete = dpWordEditScore(original, target, i-1, j, oplist) + oplist['delete']\n",
    "        \n",
    "        if (i, j-1) in WordEditScore:\n",
    "            insert = WordEditScore[(i, j-1)] + oplist['insert']\n",
    "        else:\n",
    "            insert = dpWordEditScore(original, target, i, j-1, oplist) + oplist['insert']\n",
    "        \n",
    "        if (i-1,j-1) in WordEditScore:\n",
    "            copy = WordEditScore[(i-1,j-1)] + oplist['copy']\n",
    "        else:\n",
    "            copy = dpWordEditScore(original, target, i-1, j-1, oplist) + oplist['copy']\n",
    "\n",
    "        if (original[i-1] == target[j-1]) and (copy<delete) and (copy <insert):\n",
    "            operations.append(f'copy {original[i-1]}')\n",
    "            return copy\n",
    "        elif insert<delete:\n",
    "            operations.append(f'insert {target[j-1]}')\n",
    "            return insert \n",
    "        else:\n",
    "            operations.append(f'delete {original[i-1]}') \n",
    "            return delete \n",
    "        \n",
    "\n",
    "\n"
   ]
  },
  {
   "cell_type": "markdown",
   "id": "470a1f66-418d-45b7-8df1-e48bcfa53aa5",
   "metadata": {},
   "source": [
    "## 检验"
   ]
  },
  {
   "cell_type": "code",
   "execution_count": 146,
   "id": "f359b519-6866-41c6-9fd4-8ec6c419e06c",
   "metadata": {},
   "outputs": [
    {
     "name": "stdout",
     "output_type": "stream",
     "text": [
      "========= 2 单词最小编辑距离问题 =========\n",
      "cane --> new score: 70\n",
      "\t['delete c', 'delete a', 'copy n', 'copy e', 'insert w']\n",
      "sheep --> sleep score: 60\n",
      "\t['copy s', 'insert l', 'delete h', 'copy e', 'copy e', 'copy p']\n",
      "algorithm --> alligator score: 185\n",
      "\t['copy a', 'copy l', 'insert l', 'insert i', 'copy g', 'insert a', 'insert t', 'copy o', 'copy r', 'delete i', 'delete t', 'delete h', 'delete m']\n",
      "debug --> release score: 205\n",
      "\t['insert r', 'delete d', 'copy e', 'insert l', 'insert e', 'insert a', 'insert s', 'insert e', 'delete b', 'delete u', 'delete g']\n",
      "difficult --> sniffing score: 200\n",
      "\t['insert s', 'insert n', 'delete d', 'copy i', 'copy f', 'copy f', 'copy i', 'insert n', 'insert g', 'delete c', 'delete u', 'delete l', 'delete t']\n",
      "directory --> framework score: 220\n",
      "\t['insert f', 'delete d', 'delete i', 'copy r', 'insert a', 'insert m', 'copy e', 'insert w', 'delete c', 'delete t', 'copy o', 'copy r', 'insert k', 'delete y']\n",
      "wonderful --> terrific score: 235\n",
      "\t['insert t', 'delete w', 'delete o', 'delete n', 'delete d', 'copy e', 'copy r', 'insert r', 'insert i', 'copy f', 'insert i', 'insert c', 'delete u', 'delete l']\n"
     ]
    }
   ],
   "source": [
    "\n",
    "print(\"========= 2 单词最小编辑距离问题 =========\")\n",
    "oplist = {'copy': 5, 'delete': 20, 'insert': 20}\n",
    "# oplist =  {'copy':5, 'delete':10, 'insert':15}\n",
    "# oplist = {'copy':10, 'delete':25, 'insert':20}\n",
    "originalWords = [\n",
    "    \"cane\", \"sheep\", \"algorithm\", \"debug\", \"difficult\", \"directory\",\n",
    "    \"wonderful\"\n",
    "]\n",
    "targetWords = [\n",
    "    \"new\", \"sleep\", \"alligator\", \"release\", \"sniffing\", \"framework\", \"terrific\"\n",
    "]\n",
    "\n",
    "for i in range(len(originalWords)):\n",
    "    print(f'{originalWords[i]} --> {targetWords[i]}',end=\" score: \")\n",
    "    score, operations = dpWordEdit(originalWords[i], targetWords[i], oplist)\n",
    "    \n",
    "    print(score,end='\\n\\t')\n",
    "    print(operations)\n",
    "    \n",
    "    \n",
    "    "
   ]
  },
  {
   "cell_type": "code",
   "execution_count": null,
   "id": "af74c2b9-8571-4c7a-bdd6-2d230229274a",
   "metadata": {},
   "outputs": [],
   "source": []
  },
  {
   "cell_type": "code",
   "execution_count": null,
   "id": "2c70de61-8a0c-4fc4-805b-b7f66d0e314b",
   "metadata": {},
   "outputs": [],
   "source": []
  },
  {
   "cell_type": "code",
   "execution_count": null,
   "id": "0ce2481a-9baf-4f7e-a6c8-a5f936066235",
   "metadata": {},
   "outputs": [],
   "source": []
  }
 ],
 "metadata": {
  "kernelspec": {
   "display_name": "Python 3 (ipykernel)",
   "language": "python",
   "name": "python3"
  },
  "language_info": {
   "codemirror_mode": {
    "name": "ipython",
    "version": 3
   },
   "file_extension": ".py",
   "mimetype": "text/x-python",
   "name": "python",
   "nbconvert_exporter": "python",
   "pygments_lexer": "ipython3",
   "version": "3.8.12"
  },
  "toc-autonumbering": true
 },
 "nbformat": 4,
 "nbformat_minor": 5
}
