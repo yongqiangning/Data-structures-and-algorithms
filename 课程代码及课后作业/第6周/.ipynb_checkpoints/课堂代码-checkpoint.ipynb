{
 "cells": [
  {
   "cell_type": "markdown",
   "id": "ddecf4dc-39b2-4823-836b-5fc379e19370",
   "metadata": {},
   "source": [
    "# 410-找零兑换问题的递归解法"
   ]
  },
  {
   "cell_type": "markdown",
   "id": "4b9b00bb-0e14-48b5-af42-697380488d96",
   "metadata": {},
   "source": [
    "## 找零问题：递归解法\n",
    "直接使用递归调用的解法，问题是极其低效，63分的兑换硬币问题需要进行67，716，925次递归调用"
   ]
  },
  {
   "cell_type": "code",
   "execution_count": 7,
   "id": "3c144bd6-1ef7-41c7-b86d-41c6d745e675",
   "metadata": {},
   "outputs": [
    {
     "name": "stdout",
     "output_type": "stream",
     "text": [
      "6\n"
     ]
    },
    {
     "data": {
      "text/plain": [
       "24.192595958709717"
      ]
     },
     "execution_count": 7,
     "metadata": {},
     "output_type": "execute_result"
    }
   ],
   "source": [
    "def recMC(coinValueList, change):\n",
    "    minCoins = change\n",
    "    if change in coinValueList:\n",
    "        return 1 \n",
    "    else:\n",
    "        for i in [c for c in coinValueList if c<=change]:\n",
    "            numCoins = 1 + recMC(coinValueList, change-i) \n",
    "            if numCoins < minCoins:\n",
    "                minCoins = numCoins\n",
    "    return minCoins\n",
    "\n",
    "import time\n",
    "t1 = time.time()\n",
    "print(recMC([1,5,10,25], 63))\n",
    "time.time() - t1"
   ]
  },
  {
   "cell_type": "markdown",
   "id": "bf637d3a-c173-45fa-8c53-8e0c731b8430",
   "metadata": {},
   "source": [
    "## 找零兑换问题：递归解法的改进"
   ]
  },
  {
   "cell_type": "code",
   "execution_count": 6,
   "id": "72029442-2f6d-4f9e-8ee4-2ddc4f45b6ba",
   "metadata": {},
   "outputs": [
    {
     "name": "stdout",
     "output_type": "stream",
     "text": [
      "6\n"
     ]
    },
    {
     "data": {
      "text/plain": [
       "0.0010807514190673828"
      ]
     },
     "execution_count": 6,
     "metadata": {},
     "output_type": "execute_result"
    }
   ],
   "source": [
    "def recDC(coinValueList, change, knownResults):\n",
    "    minCoins = change\n",
    "    if change in coinValueList:\n",
    "        knownResults[change] = 1\n",
    "        return 1\n",
    "    elif knownResults[change]>0:\n",
    "        return knownResults[change]\n",
    "    else:\n",
    "        for i in [c for c in coinValueList if c<=change]:\n",
    "            numCoins = 1+recDC(coinValueList, change-i, knownResults)\n",
    "            if numCoins < minCoins:\n",
    "                minCoins = numCoins\n",
    "                knownResults[change] = minCoins\n",
    "    return minCoins\n",
    "\n",
    "import time\n",
    "t1 = time.time()\n",
    "print(recDC([1,5,10,25], 63,[0]*64))\n",
    "time.time() - t1"
   ]
  },
  {
   "cell_type": "markdown",
   "id": "76e3b5e0-63f2-408c-b2d0-08f25b7393f0",
   "metadata": {},
   "source": [
    "# 411-找零兑换问题的动态规划解法"
   ]
  },
  {
   "cell_type": "markdown",
   "id": "ccf31a48-d34c-42d0-80b9-dc0503671a9b",
   "metadata": {},
   "source": [
    "## 找零兑换：动态规划算法代码"
   ]
  },
  {
   "cell_type": "code",
   "execution_count": 8,
   "id": "838521ee-3df6-4348-8600-b150723ea777",
   "metadata": {},
   "outputs": [
    {
     "name": "stdout",
     "output_type": "stream",
     "text": [
      "3\n"
     ]
    },
    {
     "data": {
      "text/plain": [
       "0.0010509490966796875"
      ]
     },
     "execution_count": 8,
     "metadata": {},
     "output_type": "execute_result"
    }
   ],
   "source": [
    "def dpMakeChange(coinValueList, change, minCoins):\n",
    "    # 从1分开始到change， 逐个计算最少硬币数\n",
    "    for cents in range(1,change+1):\n",
    "        # 初始化最大值等于cents \n",
    "        coinCount = cents\n",
    "        # 减去每个硬币，向后查最少硬币数，同时记录总的最少记录数\n",
    "        for j in [c for c in coinValueList if c<= cents]:\n",
    "            if minCoins[cents-j] +1 < coinCount:\n",
    "                coinCount = minCoins[cents-j] +1\n",
    "        # 得到当前最少硬币数，记录到表中\n",
    "        minCoins[cents] = coinCount\n",
    "    return minCoins[change]\n",
    "\n",
    "import time\n",
    "t1 = time.time()\n",
    "print(dpMakeChange([1,5,10,21,25], 63,[0]*64))\n",
    "time.time() - t1"
   ]
  },
  {
   "cell_type": "markdown",
   "id": "b52978f0-492e-41e2-8df9-f6a06156bfe9",
   "metadata": {},
   "source": [
    "## 找零兑换：动态规划算法扩展代码"
   ]
  },
  {
   "cell_type": "code",
   "execution_count": 15,
   "id": "023a1ef8-f09e-461d-8802-bd34cb718cd0",
   "metadata": {},
   "outputs": [
    {
     "name": "stdout",
     "output_type": "stream",
     "text": [
      "Making change for 63 requires\n",
      "3\n",
      "They are:\n",
      "21\n",
      "21\n",
      "21\n",
      "[0, 1, 1, 1, 1, 5, 1, 1, 1, 1, 10, 1, 1, 1, 1, 5, 1, 1, 1, 1, 10, 21, 1, 1, 1, 25, 1, 1, 1, 1, 5, 10, 1, 1, 1, 10, 1, 1, 1, 1, 5, 10, 21, 1, 1, 10, 21, 1, 1, 1, 25, 1, 10, 1, 1, 5, 10, 1, 1, 1, 10, 1, 10, 21]\n"
     ]
    }
   ],
   "source": [
    "def dpMakeChange(coinValueList, change, minCoins, coinsUsed):\n",
    "    for cents in range(1, change+1):\n",
    "        coinCount = cents\n",
    "        newCoin = 1 # 初始化新加硬币\n",
    "        for j in [c for c in coinValueList if c<=cents]:\n",
    "            if minCoins[cents-j]+1 <coinCount:\n",
    "                coinCount = minCoins[cents-j]+1\n",
    "                newCoin = j \n",
    "        minCoins[cents] = coinCount\n",
    "        coinsUsed[cents] = newCoin\n",
    "    return minCoins[change]\n",
    "\n",
    "\n",
    "def printCoins(coinUsed, change):\n",
    "    coin = change\n",
    "    while coin >0:\n",
    "        thisCoin = coinUsed[coin]\n",
    "        print(thisCoin)\n",
    "        coin -= thisCoin\n",
    "\n",
    "amnt = 63\n",
    "clist = [1,5,10,21,25]\n",
    "coinUsed = [0]*(amnt+1)\n",
    "coinCount = [0]*(amnt+1)\n",
    "print(f'Making change for {amnt} requires')\n",
    "print(dpMakeChange(clist, amnt, coinCount, coinUsed))\n",
    "print('They are:')\n",
    "printCoins(coinUsed,amnt)\n",
    "print(coinUsed)\n",
    "        "
   ]
  },
  {
   "cell_type": "code",
   "execution_count": 3,
   "id": "faa3c04b-1166-4f3e-8791-1c142eb78f0c",
   "metadata": {
    "collapsed": true,
    "jupyter": {
     "outputs_hidden": true
    },
    "tags": []
   },
   "outputs": [
    {
     "ename": "NameError",
     "evalue": "name 'coinUsed' is not defined",
     "output_type": "error",
     "traceback": [
      "\u001b[0;31m---------------------------------------------------------------------------\u001b[0m",
      "\u001b[0;31mNameError\u001b[0m                                 Traceback (most recent call last)",
      "Input \u001b[0;32mIn [3]\u001b[0m, in \u001b[0;36m<cell line: 1>\u001b[0;34m()\u001b[0m\n\u001b[0;32m----> 1\u001b[0m \u001b[38;5;28mlen\u001b[39m(\u001b[43mcoinUsed\u001b[49m)\n",
      "\u001b[0;31mNameError\u001b[0m: name 'coinUsed' is not defined"
     ]
    }
   ],
   "source": [
    "len(coinUsed)"
   ]
  },
  {
   "cell_type": "markdown",
   "id": "8cc10388-914b-46e4-b9ae-7a7b3b7db745",
   "metadata": {},
   "source": [
    "# 412-动态规划案例分析"
   ]
  },
  {
   "cell_type": "markdown",
   "id": "51cda39e-0c25-4a32-af87-0481d58ca9ae",
   "metadata": {},
   "source": [
    "## 博物馆大盗问题：动态规划解法"
   ]
  },
  {
   "cell_type": "code",
   "execution_count": 8,
   "id": "c120dcd3-eef0-4e64-bbcb-78351c52c73c",
   "metadata": {},
   "outputs": [
    {
     "name": "stdout",
     "output_type": "stream",
     "text": [
      "29\n"
     ]
    }
   ],
   "source": [
    "# 宝物的重量和价值\n",
    "tr = [None, {'w':2,'v':3}, {'w':3,'v':4}\n",
    "          , {'w':4,'v':8}, {'w':5,'v':8}\n",
    "          , {'w':9,'v':10}]\n",
    "# 大盗最大承重\n",
    "max_w = 20\n",
    "\n",
    "# 初始化二维表格m[(i,w)]\n",
    "# 表示前i个宝物中， 最大重量w的组合，所得到的最大价值\n",
    "# 当i什么都不取，或w上线为0时， 价值均为0 \n",
    "m = {(i,w):0 for i in range(len(tr))\n",
    "                 for w in range(max_w+1)}\n",
    "\n",
    "# 逐个填写二维表格\n",
    "for i in range(1, len(tr)):\n",
    "    for w in range(1,max_w+1):\n",
    "        if tr[i]['w']>w: # 装不下第i个宝物\n",
    "            m[(i,w)] = m[i-1,w] # 不装第i个宝物\n",
    "        else:\n",
    "            # 不装第i个宝物， 装第i个宝物， 两种情况下取最大值\n",
    "            m[(i,w)] = max(m[i-1,w],\n",
    "                           m[(i-1, w-tr[i]['w'])] + tr[i]['v'])\n",
    "# 输出结果 \n",
    "print(m[len(tr)-1, max_w])\n"
   ]
  },
  {
   "cell_type": "markdown",
   "id": "46e7d634-7f66-493e-8c5c-619c1bf84171",
   "metadata": {},
   "source": [
    "## 博物馆大盗问题：递归解法"
   ]
  },
  {
   "cell_type": "code",
   "execution_count": 10,
   "id": "b696ee11-c503-40eb-886b-72a854cf970e",
   "metadata": {},
   "outputs": [
    {
     "name": "stdout",
     "output_type": "stream",
     "text": [
      "29\n"
     ]
    }
   ],
   "source": [
    "# 宝物的重量和价值\n",
    "tr = {(2,3),(3,4),(4,8),(5,8),(9,10)}\n",
    "\n",
    "# 大盗最大承重\n",
    "max_w = 20 \n",
    "\n",
    "# 初始化 记忆表格m \n",
    "# key是（宝物组合，最大重量），value 是最大价值\n",
    "m = {} \n",
    "def thief(tr, w):\n",
    "    if tr== set() or w==0:\n",
    "        m[tuple(tr), w] = 0\n",
    "        return 0\n",
    "    elif (tuple(tr),w) in m:\n",
    "        return m[(tuple(tr),w)]\n",
    "    else:\n",
    "        vmax =0 \n",
    "        for t in tr:\n",
    "            if t[0] <= w:\n",
    "                # 逐个从集合中去掉某个宝物，递归调用\n",
    "                # 选出所有价值中最大值\n",
    "                v = thief(tr-{t},w-t[0])+t[1]\n",
    "                vmax = max(vmax,v)\n",
    "        m[tuple(tr),w] = vmax\n",
    "    return vmax\n",
    "\n",
    "# 输出结果\n",
    "print(thief(tr, max_w))"
   ]
  },
  {
   "cell_type": "code",
   "execution_count": null,
   "id": "7c99ae09-3854-4925-882f-58c71308d06c",
   "metadata": {},
   "outputs": [],
   "source": []
  }
 ],
 "metadata": {
  "kernelspec": {
   "display_name": "Python 3 (ipykernel)",
   "language": "python",
   "name": "python3"
  },
  "language_info": {
   "codemirror_mode": {
    "name": "ipython",
    "version": 3
   },
   "file_extension": ".py",
   "mimetype": "text/x-python",
   "name": "python",
   "nbconvert_exporter": "python",
   "pygments_lexer": "ipython3",
   "version": "3.8.12"
  },
  "toc-autonumbering": true
 },
 "nbformat": 4,
 "nbformat_minor": 5
}
