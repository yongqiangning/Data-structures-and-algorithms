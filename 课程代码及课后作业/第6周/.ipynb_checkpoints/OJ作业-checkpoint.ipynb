{
 "cells": [
  {
   "cell_type": "markdown",
   "id": "bd546843-4d49-45df-b99c-8878a69b0ab7",
   "metadata": {},
   "source": [
    "# 铺瓷砖"
   ]
  },
  {
   "cell_type": "markdown",
   "id": "6e0ad67d-22df-4d37-8bd9-bd820d750338",
   "metadata": {},
   "source": [
    "![铺瓷砖](../picture/铺瓷砖.png)"
   ]
  },
  {
   "cell_type": "markdown",
   "id": "101f022f-cdd6-4d06-b97f-cd50512f8a8a",
   "metadata": {},
   "source": [
    "## 答案"
   ]
  },
  {
   "cell_type": "code",
   "execution_count": 10,
   "id": "eefb16ef-b3c3-44f1-98c4-656e3d803cc7",
   "metadata": {},
   "outputs": [
    {
     "name": "stdin",
     "output_type": "stream",
     "text": [
      " 6\n"
     ]
    },
    {
     "name": "stdout",
     "output_type": "stream",
     "text": [
      "29\n"
     ]
    }
   ],
   "source": [
    "def tile(sizeList, space, knownResults):\n",
    "    if space==0:\n",
    "        knownResults[space] = 1\n",
    "        return 1\n",
    "    elif knownResults[space]>0:\n",
    "        return knownResults[space]\n",
    "    else:\n",
    "        num = 0 \n",
    "        for i in [i for i in sizeList if i<=space]:\n",
    "            num += tile(sizeList, space-i, knownResults)\n",
    "        knownResults[space]=num\n",
    "        return num\n",
    "\n",
    "\n",
    "sizeList = [1,2,3,4]\n",
    "space = eval(input())\n",
    "knownResults =  [0] * (space + 1)\n",
    "print(tile(sizeList, space, knownResults))"
   ]
  },
  {
   "cell_type": "markdown",
   "id": "05429ae2-6410-44e8-a517-d824ac3111dd",
   "metadata": {},
   "source": [
    "# 分发糖果"
   ]
  },
  {
   "cell_type": "markdown",
   "id": "0dff1b85-b1ea-477d-b0de-13b97ab7bc08",
   "metadata": {},
   "source": [
    "![分发糖果](../picture/分发糖果.png)"
   ]
  },
  {
   "cell_type": "markdown",
   "id": "7091a47c-c38f-4e4b-9e59-af02aa8d3fea",
   "metadata": {},
   "source": [
    "## 答案"
   ]
  },
  {
   "cell_type": "code",
   "execution_count": 20,
   "id": "cf9b0f81-a85b-4733-ad16-28e5955ea672",
   "metadata": {},
   "outputs": [
    {
     "name": "stdin",
     "output_type": "stream",
     "text": [
      " [1,2,2,1]\n"
     ]
    },
    {
     "name": "stdout",
     "output_type": "stream",
     "text": [
      "6\n"
     ]
    }
   ],
   "source": [
    "def candy(ratings):\n",
    "    # code here\n",
    "    rewardList = [1]*len(ratings)\n",
    "    \n",
    "    for ind in range(len(ratings)):\n",
    "        if (ind>0) & (ratings[ind]>ratings[ind-1]):\n",
    "            rewardList[ind] = rewardList[ind-1] + 1\n",
    "    for ind in range(len(ratings)-2,-1,-1):\n",
    "        if ratings[ind]>ratings[ind+1] and rewardList[ind]<=rewardList[ind+1]:\n",
    "            rewardList[ind] = rewardList[ind+1]+1\n",
    "        \n",
    "    return sum(rewardList)\n",
    "        \n",
    "\n",
    "lst = eval(input())\n",
    "print(candy(lst))"
   ]
  },
  {
   "cell_type": "markdown",
   "id": "5b36571d-3a92-47c2-a91d-a9faddee534e",
   "metadata": {},
   "source": [
    "## 表达式按不同顺序求值"
   ]
  },
  {
   "cell_type": "markdown",
   "id": "8f1dd32f-0034-4a47-9a85-9de3e870b64f",
   "metadata": {},
   "source": [
    "![](../picture/表达式按不同顺序求值.png)"
   ]
  },
  {
   "cell_type": "code",
   "execution_count": null,
   "id": "11eb5ae9-08ba-4ee5-814b-9a508da27909",
   "metadata": {},
   "outputs": [],
   "source": []
  }
 ],
 "metadata": {
  "kernelspec": {
   "display_name": "Python 3 (ipykernel)",
   "language": "python",
   "name": "python3"
  },
  "language_info": {
   "codemirror_mode": {
    "name": "ipython",
    "version": 3
   },
   "file_extension": ".py",
   "mimetype": "text/x-python",
   "name": "python",
   "nbconvert_exporter": "python",
   "pygments_lexer": "ipython3",
   "version": "3.8.12"
  },
  "toc-autonumbering": true
 },
 "nbformat": 4,
 "nbformat_minor": 5
}
