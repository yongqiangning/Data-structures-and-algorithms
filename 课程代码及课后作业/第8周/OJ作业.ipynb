{
 "cells": [
  {
   "cell_type": "markdown",
   "id": "d223104a-6ddc-4895-8a1b-8e4d0e80465a",
   "metadata": {},
   "source": [
    "# 字符串中所有重排"
   ]
  },
  {
   "cell_type": "markdown",
   "id": "ea3941ba-f79c-4019-804f-5a3920b18acb",
   "metadata": {},
   "source": [
    "## 题目"
   ]
  },
  {
   "cell_type": "markdown",
   "id": "4d01701f-3726-401e-ace3-c42b7985ca6d",
   "metadata": {},
   "source": [
    "总时间限制: 500ms 内存限制:65536kB\n",
    "\n",
    "**描述**\n",
    "\n",
    "  给定一个字符串**s**与待查找字符串**p**，请给出使得**s[i:i+len(p)]**是**p**的一个字母重排的所有下标 i<br>题目保证字符串**p**非空，且各字符串仅由小写字母构成\n",
    "  \n",
    "**参考代码模板：**\n",
    "```python\n",
    "def findAnagrams(s, p): \n",
    "   # code here  \n",
    "\n",
    "passs = input()\n",
    "p = input()\n",
    "findAnagrams(s, p)\n",
    "```\n",
    "\n",
    "**输入**\n",
    "\n",
    "  两行字符串，第一行为s，第二行为p\n",
    "\n",
    "**输出**\n",
    "\n",
    "  所有满足条件的下标从小到大排列，以空格分隔输出  若无对应下标，则输出字符串\"none\"\n",
    "\n",
    "**样例输入**\n",
    "\n",
    "  ```\n",
    "  abababa\n",
    "  ab\n",
    "  ——————————\n",
    "  a\n",
    "  b\n",
    "  ```\n",
    "\n",
    "**样例输出**\n",
    "\n",
    "  ```\n",
    "  0 1 2 3 4 5 \n",
    "  —————————— \n",
    "  none\n",
    "  ```\n",
    "\n",
    "  "
   ]
  },
  {
   "cell_type": "markdown",
   "id": "d7ca7bea-e518-4aa7-afc0-01082da2f6d0",
   "metadata": {},
   "source": [
    "## 代码"
   ]
  },
  {
   "cell_type": "code",
   "execution_count": 16,
   "id": "8dc99814-03d9-4bf9-9f99-4e10a0bd1550",
   "metadata": {},
   "outputs": [
    {
     "name": "stdin",
     "output_type": "stream",
     "text": [
      " a\n",
      " b\n"
     ]
    },
    {
     "name": "stdout",
     "output_type": "stream",
     "text": [
      "none\n"
     ]
    }
   ],
   "source": [
    "def ff(ss1,ss2):\n",
    "    if sorted(list(ss1)) == sorted(list(ss2)):\n",
    "        return True\n",
    "    else:\n",
    "        return False\n",
    "    \n",
    "\n",
    "def findAnagrams(s, p):\n",
    "    idx_ls = []\n",
    "    for i in range(len(s)):\n",
    "        if len(s[i:])>=len(p):\n",
    "            if ff(s[i:i+len(p)],p):\n",
    "                idx_ls.append(i)\n",
    "\n",
    "    if idx_ls:\n",
    "        return ' '.join(map(str,idx_ls))\n",
    "    else:\n",
    "        return 'none'\n",
    "\n",
    "\n",
    "    \n",
    "\n",
    "s = input()\n",
    "p = input()\n",
    "print(findAnagrams(s, p))"
   ]
  },
  {
   "cell_type": "markdown",
   "id": "abde95ab-84aa-4492-83d9-db0cd4b6c269",
   "metadata": {},
   "source": [
    "# 列表出现最频繁的元素"
   ]
  },
  {
   "cell_type": "markdown",
   "id": "9f1f9eed-bdc6-4f56-ac4d-fc03a29f18c6",
   "metadata": {},
   "source": [
    "## 题目"
   ]
  },
  {
   "cell_type": "markdown",
   "id": "4fd93de2-b19d-4096-93f6-70932cac7357",
   "metadata": {},
   "source": [
    "总时间限制: 500ms 内存限制: 65536kB\n",
    "\n",
    "**描述**\n",
    "\n",
    "  给定一个列表与数字K，按出现次数倒序输出列表中前K个出现最频繁的元素；若少于K个元素则返回所有元素。若有两个或以上的元素出现次数相等，按元素的值进行顺序输出，小的在前。\n",
    "  \n",
    "**参考代码模板：**\n",
    "```python\n",
    "    def topKFrequent(nums, k):  \n",
    "        # code here  \n",
    "        \n",
    "    passlst = eval(input())\n",
    "    k = int(input())\n",
    "    topKFrequent(lst, k)\n",
    "```\n",
    "\n",
    "**输入**\n",
    "\n",
    "  输入为两行 <br>\n",
    "  第一行为给定列表，以合法的Python表达式给出<br>\n",
    "  第二行为数字K\n",
    "\n",
    "**输出**\n",
    "\n",
    "  不多于K个数字，以空格分隔\n",
    "\n",
    "**样例输入**\n",
    "\n",
    "```python\n",
    "[2,1,1,1,2,2,3] \n",
    "2\n",
    "```\n",
    "\n",
    "**样例输出**\n",
    "\n",
    "```\n",
    "1 2\n",
    "```"
   ]
  },
  {
   "cell_type": "code",
   "execution_count": 22,
   "id": "4f85dba5-9577-41da-9e18-039db10f47d2",
   "metadata": {},
   "outputs": [
    {
     "name": "stdin",
     "output_type": "stream",
     "text": [
      " [2,1,1,1,2,2,3]\n",
      " 2\n"
     ]
    },
    {
     "name": "stdout",
     "output_type": "stream",
     "text": [
      "1 2\n"
     ]
    }
   ],
   "source": [
    "def topKFrequent(nums, k):  \n",
    "    dd = {} \n",
    "    for i in nums:\n",
    "        dd[i] = dd.get(i,0) +1 \n",
    "    \n",
    "    res  = sorted(dd.items(),key=lambda x:(x[1],-x[0]),reverse=True)\n",
    "    result = [] \n",
    "    if len(res) < k:\n",
    "        for i in res:\n",
    "            result.append(i[0])\n",
    "        print(' '.join([str(i) for i in result]))\n",
    "    else:\n",
    "        for i in range(k):\n",
    "            result.append(res[i][0])\n",
    "        print(' '.join([str(i) for i in result]))\n",
    "\n",
    "    \n",
    "    \n",
    "lst = eval(input())\n",
    "k = int(input())\n",
    "topKFrequent(lst, k)\n"
   ]
  },
  {
   "cell_type": "markdown",
   "id": "4b51007a-348a-489f-922e-c8c8c458872a",
   "metadata": {},
   "source": [
    "# 散列表"
   ]
  },
  {
   "cell_type": "markdown",
   "id": "d22d081b-1634-45b7-86e8-e8a665a5a884",
   "metadata": {},
   "source": [
    "总时间限制: 500ms 内存限制: 65536kB\n",
    "\n",
    "**描述**\n",
    "\n",
    "  给定一个指定大小**N**的散列表，并输入一系列数字：<br>\n",
    "  若找到空槽，则插入该数字，并返回槽位置；<br>\n",
    "  若该数字在散列表中存在，则直接输出其位置。\n",
    "  \n",
    " 注：使用下标增加的二次探测法解决散列冲突<br>\n",
    " 注2：散列表实际大小应确定为不小于用户输入**N**的最小**质数** \n",
    "\n",
    "**参考代码模板**：\n",
    "```python\n",
    "    def createHashTable(n):  \n",
    "        # code here  \n",
    "        pass\n",
    "\n",
    "    def insertNumbers(table, nums):  \n",
    "        # code here  \n",
    "        pass\n",
    "\n",
    "    n = int(input())\n",
    "    nums = list(map(int, input().split()))\n",
    "    table = createHashTable(n)\n",
    "    insertNumbers(table, nums)\n",
    "```\n",
    "\n",
    "**输入**\n",
    "\n",
    "  两行  第一行为用户指定散列表大小整数N  第二行为一系列数字，以空格分隔\n",
    "\n",
    "**输出**\n",
    "\n",
    "  逐个输出对应数字在散列表中位置，以空格分隔  若该数字无法插入，则输出“-”\n",
    "\n",
    "**样例输入**\n",
    "\n",
    "```\n",
    "4 \n",
    "10 6 4 10 15\n",
    "\n",
    "```\n",
    "\n",
    "**样例输出**\n",
    "\n",
    "   `0 1 4 0 -`"
   ]
  },
  {
   "cell_type": "markdown",
   "id": "303a0d8d-af0a-4211-97ce-36c3aff44157",
   "metadata": {},
   "source": [
    "## 思路"
   ]
  },
  {
   "cell_type": "markdown",
   "id": "a0fbf070-dd98-4125-8dee-94d9e67ef811",
   "metadata": {},
   "source": [
    "## 代码"
   ]
  },
  {
   "cell_type": "code",
   "execution_count": 29,
   "id": "7a521d9c-98b4-49c9-9245-2f0bb8995f4d",
   "metadata": {},
   "outputs": [
    {
     "name": "stdin",
     "output_type": "stream",
     "text": [
      " 4\n",
      " 10 6 4 10 15\n"
     ]
    },
    {
     "name": "stdout",
     "output_type": "stream",
     "text": [
      "0 1 4 0 -\n"
     ]
    }
   ],
   "source": [
    "def createHashTable(n):\n",
    "    if n <= 2:\n",
    "        return [None] * 2\n",
    "    for i in range(2, n):\n",
    "        if n % i == 0:\n",
    "            n += 1\n",
    "    else:\n",
    "        return [None] * n\n",
    "\n",
    "     \n",
    "        \n",
    "def insertNumbers(table, nums):  \n",
    "    res=[]\n",
    "    l_table = len(table) \n",
    "    for num in nums:\n",
    "        ind = num%l_table\n",
    "        if num in table:\n",
    "            res.append(table.index(num))\n",
    "        elif table[ind] == None:\n",
    "            table[ind] = num\n",
    "            res.append(ind)      \n",
    "        else:\n",
    "            for j in range(1,l_table):\n",
    "                ind = (num +j*j)%l_table\n",
    "                if table[ind] == None:\n",
    "                    table[ind] = num\n",
    "                    res.append(ind)\n",
    "                    break\n",
    "            else:\n",
    "                res.append('-')\n",
    "    print(*res)\n",
    "                    \n",
    "    \n",
    "\n",
    "\n",
    "n = int(input())\n",
    "nums = list(map(int, input().split()))\n",
    "table = createHashTable(n)\n",
    "insertNumbers(table, nums)"
   ]
  },
  {
   "cell_type": "code",
   "execution_count": null,
   "id": "21ff1ff7-2746-44bb-81ce-8b5413d79946",
   "metadata": {},
   "outputs": [],
   "source": []
  },
  {
   "cell_type": "code",
   "execution_count": null,
   "id": "e6ba35ca-526e-476c-9c11-c8796e28ede9",
   "metadata": {},
   "outputs": [],
   "source": []
  },
  {
   "cell_type": "code",
   "execution_count": null,
   "id": "0089e631-c49e-4641-92b9-534839689022",
   "metadata": {},
   "outputs": [],
   "source": []
  },
  {
   "cell_type": "code",
   "execution_count": null,
   "id": "b3b89221-437d-446d-bf92-6a3213d159a5",
   "metadata": {},
   "outputs": [],
   "source": []
  },
  {
   "cell_type": "code",
   "execution_count": null,
   "id": "08ee1588-6937-4131-9eed-29a8de22085e",
   "metadata": {},
   "outputs": [],
   "source": []
  },
  {
   "cell_type": "code",
   "execution_count": null,
   "id": "ddca825f-8e88-4705-a200-2f417568ff34",
   "metadata": {},
   "outputs": [],
   "source": []
  },
  {
   "cell_type": "code",
   "execution_count": null,
   "id": "37ff30d0-37ac-4b8d-9a9f-58f5819fe2c0",
   "metadata": {},
   "outputs": [],
   "source": []
  },
  {
   "cell_type": "code",
   "execution_count": null,
   "id": "3ecd6768-6783-4170-8c96-7be68518e742",
   "metadata": {},
   "outputs": [],
   "source": []
  },
  {
   "cell_type": "code",
   "execution_count": null,
   "id": "0b732454-689c-4b88-b59c-727b9a5b528f",
   "metadata": {},
   "outputs": [],
   "source": []
  },
  {
   "cell_type": "code",
   "execution_count": null,
   "id": "d0f8a29c-f2fc-494c-9a58-2307f391f001",
   "metadata": {},
   "outputs": [],
   "source": []
  },
  {
   "cell_type": "code",
   "execution_count": null,
   "id": "ce62d8bd-9534-4d2a-a79b-f8de3b8ac13e",
   "metadata": {},
   "outputs": [],
   "source": []
  }
 ],
 "metadata": {
  "kernelspec": {
   "display_name": "Python 3 (ipykernel)",
   "language": "python",
   "name": "python3"
  },
  "language_info": {
   "codemirror_mode": {
    "name": "ipython",
    "version": 3
   },
   "file_extension": ".py",
   "mimetype": "text/x-python",
   "name": "python",
   "nbconvert_exporter": "python",
   "pygments_lexer": "ipython3",
   "version": "3.8.12"
  },
  "toc-autonumbering": true
 },
 "nbformat": 4,
 "nbformat_minor": 5
}
