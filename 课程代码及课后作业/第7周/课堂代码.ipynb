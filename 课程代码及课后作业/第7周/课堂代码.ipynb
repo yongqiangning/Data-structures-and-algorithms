{
 "cells": [
  {
   "cell_type": "markdown",
   "id": "5b806c88-296f-4ad3-a1e1-588cce9eb3cc",
   "metadata": {},
   "source": [
    "# 501-顺序查找算法及分析"
   ]
  },
  {
   "cell_type": "markdown",
   "id": "602e72df-9f71-4d1c-9d19-a44426304e23",
   "metadata": {},
   "source": [
    "## 顺序查找：无序表查找代码"
   ]
  },
  {
   "cell_type": "code",
   "execution_count": 1,
   "id": "ae8659c1-39a4-4c4d-9a0a-d89afddd0c60",
   "metadata": {},
   "outputs": [
    {
     "name": "stdout",
     "output_type": "stream",
     "text": [
      "False\n",
      "True\n"
     ]
    }
   ],
   "source": [
    "def sequentialSearch(alist,item):\n",
    "    pos =0 \n",
    "    found = False\n",
    "\n",
    "    while pos<len(alist) and not found:\n",
    "        if alist[pos] == item:\n",
    "            found = True\n",
    "        else:\n",
    "            pos += 1 \n",
    "    return found\n",
    "\n",
    "testList = [1, 2, 32, 8, 17, 19, 42, 13, 0]\n",
    "print(sequentialSearch(testList, 3))\n",
    "print(sequentialSearch(testList, 13))\n"
   ]
  },
  {
   "cell_type": "markdown",
   "id": "bd819f38-3f95-49bb-af6d-88823cb72f41",
   "metadata": {},
   "source": [
    "## 顺序查找：有序表查找代码"
   ]
  },
  {
   "cell_type": "code",
   "execution_count": 2,
   "id": "2b7d2297-cd7c-40ca-8670-519f94911a2f",
   "metadata": {},
   "outputs": [
    {
     "name": "stdout",
     "output_type": "stream",
     "text": [
      "False\n",
      "True\n"
     ]
    }
   ],
   "source": [
    "def orderedSequentialSearch(alist, item):\n",
    "    pos = 0 \n",
    "    found = False\n",
    "    stop = False\n",
    "    while pos<len(alist) and not found and not stop:\n",
    "        if alist[pos] == item:\n",
    "            found = True\n",
    "        else:\n",
    "            if alist[pos] > item:\n",
    "                stop = True\n",
    "            else:\n",
    "                pos += 1\n",
    "    return found \n",
    "\n",
    "testList = [0, 1, 2, 8, 13, 17, 19, 32, 42]\n",
    "print(orderedSequentialSearch(testList, 3))\n",
    "print(orderedSequentialSearch(testList, 13))\n"
   ]
  },
  {
   "cell_type": "markdown",
   "id": "173ccde0-b2cf-4d2c-8099-cacf509196ce",
   "metadata": {},
   "source": [
    "# 502-二分查找算法及分析"
   ]
  },
  {
   "cell_type": "markdown",
   "id": "84e44978-cf09-4b8f-8f9e-1d70c662f7ed",
   "metadata": {},
   "source": [
    "## 二分查找：代码"
   ]
  },
  {
   "cell_type": "code",
   "execution_count": 3,
   "id": "afd97ed6-aa81-4ad6-9a48-181f223ee9c5",
   "metadata": {},
   "outputs": [
    {
     "name": "stdout",
     "output_type": "stream",
     "text": [
      "False\n",
      "True\n"
     ]
    }
   ],
   "source": [
    "def binary_Search(alist, item):\n",
    "    first = 0 \n",
    "    last = len(alist) -1 \n",
    "    found = False\n",
    "\n",
    "    while first<=last and not found:\n",
    "        midpoint = (first+last)//2\n",
    "        if alist[midpoint] == item:\n",
    "            found = True\n",
    "        else:\n",
    "            if item <alist[midpoint]:\n",
    "                last= midpoint -1 \n",
    "            else:\n",
    "                first = midpoint +1 \n",
    "    return found \n",
    "\n",
    "testList = [0, 1, 2, 8, 13, 17, 19, 32, 42]\n",
    "print(binary_Search(testList, 3))\n",
    "print(binary_Search(testList, 13))\n"
   ]
  },
  {
   "cell_type": "markdown",
   "id": "f95e6738-6e30-4035-8078-4cfcb95aa887",
   "metadata": {},
   "source": [
    "## 二分查找：分而治之"
   ]
  },
  {
   "cell_type": "code",
   "execution_count": 4,
   "id": "cb75c11f-392d-4050-8424-eac07353f720",
   "metadata": {},
   "outputs": [
    {
     "name": "stdout",
     "output_type": "stream",
     "text": [
      "False\n",
      "True\n"
     ]
    }
   ],
   "source": [
    "def binarySearch(alist, item):\n",
    "    if len(alist) == 0:\n",
    "        return False\n",
    "    else:\n",
    "        midpoint = len(alist)//2\n",
    "        if alist[midpoint] == item:\n",
    "            return True\n",
    "        else:\n",
    "            if item<alist[midpoint]:\n",
    "                return binary_Search(alist[:midpoint], item)\n",
    "            else:\n",
    "                return binary_Search(alist[midpoint+1:], item)\n",
    "\n",
    "testList = [0, 1, 2, 8, 13, 17, 19, 32, 42]\n",
    "print(binary_Search(testList, 3))\n",
    "print(binary_Search(testList, 13))\n"
   ]
  },
  {
   "cell_type": "markdown",
   "id": "bedfc468-cbac-4a5f-9213-e7567e0f94f0",
   "metadata": {},
   "source": [
    "# 503-冒泡排序和选择排序算法及分析"
   ]
  },
  {
   "cell_type": "markdown",
   "id": "bac5f09f-9550-4e15-b372-05047050dc2a",
   "metadata": {},
   "source": [
    "## 冒泡排序：代码"
   ]
  },
  {
   "cell_type": "code",
   "execution_count": 5,
   "id": "72dc5526-5c5f-4701-8b0b-e392e65515e7",
   "metadata": {},
   "outputs": [
    {
     "name": "stdout",
     "output_type": "stream",
     "text": [
      "[17, 20, 26, 31, 44, 54, 55, 77, 93]\n"
     ]
    }
   ],
   "source": [
    "def bublleSort(alist):\n",
    "    for passnum in range(len(alist)-1,0,-1):\n",
    "        for i in range(passnum):\n",
    "            if alist[i] >alist[i+1]:\n",
    "                alist[i] ,alist[i+1] = alist[i+1], alist[i]\n",
    "\n",
    "alist = [54, 26, 93, 17,77,31, 44, 55, 20]\n",
    "bublleSort(alist)\n",
    "print(alist)\n"
   ]
  },
  {
   "cell_type": "markdown",
   "id": "3565dc46-6956-4e42-a064-4260499fc9ca",
   "metadata": {},
   "source": [
    "## 冒泡排序：性能改进"
   ]
  },
  {
   "cell_type": "code",
   "execution_count": 6,
   "id": "3a1cfb11-d1f1-4445-8b99-e76ffb6dc60c",
   "metadata": {},
   "outputs": [
    {
     "name": "stdout",
     "output_type": "stream",
     "text": [
      "[20, 30, 40, 50, 60, 70, 80, 90, 100, 110]\n"
     ]
    }
   ],
   "source": [
    "def shortBublleSort(alist):\n",
    "    exchanges = True\n",
    "    passnum = len(alist)-1\n",
    "    while passnum > 0 and exchanges:\n",
    "        exchanges = False\n",
    "        for i in range(passnum):\n",
    "            if alist[i]>alist[i+1]:\n",
    "                exchanges = True\n",
    "                alist[i], alist[i+1] = alist[i+1], alist[i]\n",
    "        passnum -= 1\n",
    "\n",
    "alist = [20,30,40,90,50,60,70,80,100,110]\n",
    "shortBublleSort(alist)\n",
    "print(alist)\n"
   ]
  },
  {
   "cell_type": "markdown",
   "id": "de4a44d0-a3c1-40e4-82e6-37c7e832c0d1",
   "metadata": {},
   "source": [
    "## 选择排序"
   ]
  },
  {
   "cell_type": "markdown",
   "id": "a632ec68-60ec-4fc8-8885-8f5abc9793a6",
   "metadata": {},
   "source": [
    "### 算法分析\n",
    "- 选择排序对交换进行削减，相比起冒泡排序进行多次交换，每趟仅进行一次交换，记录最大项的所在位置，最后再跟本趟最后一项进行交换\n",
    "- 选择排序比冒泡排序的时间复杂度稍优，对比次数不变还是O(n^2),交换次数则减少为O(n)\n",
    "\n"
   ]
  },
  {
   "cell_type": "markdown",
   "id": "d2e29cf4-4ae7-439a-b556-a6ff4b8a415a",
   "metadata": {},
   "source": [
    "### 选择排序：代码"
   ]
  },
  {
   "cell_type": "code",
   "execution_count": 7,
   "id": "0b3360ee-9370-427b-8faa-9c9bbae1afbb",
   "metadata": {},
   "outputs": [
    {
     "name": "stdout",
     "output_type": "stream",
     "text": [
      "[17, 20, 26, 31, 44, 54, 55, 77, 93]\n"
     ]
    }
   ],
   "source": [
    "def selectionSort(alist):\n",
    "    for fillslot in range(len(alist)-1, 0, -1):\n",
    "        positionOfMax = 0 \n",
    "        for locatioin in range(1, fillslot+1):\n",
    "            if alist[locatioin]>alist[positionOfMax]:\n",
    "                positionOfMax = locatioin\n",
    "        alist[fillslot], alist[positionOfMax] = alist[positionOfMax], alist[fillslot]\n",
    "\n",
    "alist = [54, 26, 93, 17,77,31, 44, 55, 20]\n",
    "selectionSort(alist)\n",
    "print(alist)\n"
   ]
  },
  {
   "cell_type": "markdown",
   "id": "91eb32bc-e468-4128-aefd-f8dc31316e70",
   "metadata": {},
   "source": [
    "# 504-插入排序算法及分析"
   ]
  },
  {
   "cell_type": "markdown",
   "id": "916a10fa-53ff-44db-abcf-f0875cb1c1ac",
   "metadata": {},
   "source": [
    "## 插入排序代码"
   ]
  },
  {
   "cell_type": "code",
   "execution_count": 10,
   "id": "70d2c12c-827d-470d-801d-1c6c8dcbab97",
   "metadata": {},
   "outputs": [
    {
     "name": "stdout",
     "output_type": "stream",
     "text": [
      "[17, 20, 26, 31, 44, 54, 55, 77, 93]\n"
     ]
    }
   ],
   "source": [
    "def insertionSort(alist):\n",
    "    for index in range(1,len(alist)):\n",
    "        currentValue = alist[index]\n",
    "        position = index\n",
    "        while position >0 and alist[position-1]>currentValue:\n",
    "            alist[position] = alist[position-1]\n",
    "            position -= 1\n",
    "        alist[position] = currentValue\n",
    "        \n",
    "\n",
    "alist = [54, 26, 93, 17,77,31, 44, 55, 20]\n",
    "insertionSort(alist)\n",
    "print(alist)"
   ]
  },
  {
   "cell_type": "markdown",
   "id": "4a2253b0-2d5a-48d0-9762-ea031200e15d",
   "metadata": {},
   "source": [
    "# 505-谢尔排序算法及分析"
   ]
  },
  {
   "cell_type": "markdown",
   "id": "b88c7fb3-9344-4da7-91e1-620011d3befb",
   "metadata": {},
   "source": [
    "## 算法分析\n",
    "- 我们注意到插入排序的对比次数，在最好的情况下市O(n),这种情况发生在列表已是有序的情况下，实际上，列表越接近有序，插入排序的对比次数就越少\n",
    "- 从这个情况入手，谢尔排序以插入排序作为基础，对无序表进行间隔划分子列表，每个子列表都执行插入排序\n",
    "- 子列表的间隔一般从n/2开始，每趟倍增：n/4, n/8 ... 直到1"
   ]
  },
  {
   "cell_type": "markdown",
   "id": "460947af-af72-4cf5-ad89-52e18fd90bcd",
   "metadata": {},
   "source": [
    "## 谢尔排序：代码"
   ]
  },
  {
   "cell_type": "code",
   "execution_count": 13,
   "id": "3f0d6a0b-7ce8-4949-9ff6-27913a33f657",
   "metadata": {},
   "outputs": [
    {
     "name": "stdout",
     "output_type": "stream",
     "text": [
      "After increments of size 4 the list is \n",
      "[20, 26, 44, 17, 54, 31, 93, 55, 77]\n",
      "After increments of size 2 the list is \n",
      "[20, 17, 44, 26, 54, 31, 77, 55, 93]\n",
      "After increments of size 1 the list is \n",
      "[17, 20, 26, 31, 44, 54, 55, 77, 93]\n",
      "[17, 20, 26, 31, 44, 54, 55, 77, 93]\n"
     ]
    }
   ],
   "source": [
    "def shellSort(alist):\n",
    "    gap = len(alist)//2\n",
    "    \n",
    "    while gap >0:\n",
    "        for startposition in range(gap):\n",
    "            gapInsertionSort(alist, startposition, gap)\n",
    "        print(f\"After increments of size {gap} the list is \\n{alist}\")\n",
    "        gap = gap // 2\n",
    "\n",
    "def gapInsertionSort(alist, start, gap):\n",
    "    for i in range(start+gap, len(alist), gap):\n",
    "        currentValue = alist[i]\n",
    "        position = i \n",
    "\n",
    "        while position>=gap and alist[position-gap] > currentValue:\n",
    "            alist[position] = alist[position-gap]\n",
    "            position -= gap \n",
    "\n",
    "        alist[position] = currentValue\n",
    "\n",
    "alist = [54, 26, 93, 17,77,31, 44, 55, 20]\n",
    "shellSort(alist)\n",
    "print(alist)\n",
    " \n"
   ]
  },
  {
   "cell_type": "markdown",
   "id": "96780ccc-2298-4d8b-a700-7fb268f36eb8",
   "metadata": {
    "tags": []
   },
   "source": [
    "# 506-归并排序算法及分析"
   ]
  },
  {
   "cell_type": "markdown",
   "id": "449d0cde-e76e-43d0-b362-30dac1b17b12",
   "metadata": {},
   "source": [
    "## 算法分析\n",
    "- 归并排序分为两个过程来分析: 分裂和归并\n",
    "    - 分裂的过程,借鉴二分查找中的分析结果,是对数复杂度,时间复杂度为O(log n)\n",
    "    - 归并过程相对于分裂的每个部分, 起所有数据项都会被比较和放置一次,所以是线性复杂度,其时间复杂度是O(n)\n",
    "    - 综合考虑,每次分裂的部分都进行一次O(n)的数据归并,总的时间复杂度是O(nlog n)\n",
    "    - 最后, 我们注意到归并排序算法使用了额外1倍的存储空间用于归并\n",
    "    - 这个特性在对特大数据集进行排序的时候要考虑进去"
   ]
  },
  {
   "cell_type": "markdown",
   "id": "1045fc0a-1e54-4c68-8cbc-d64e9fe987f4",
   "metadata": {
    "tags": []
   },
   "source": [
    "## 归并排序实现代码1"
   ]
  },
  {
   "cell_type": "code",
   "execution_count": 17,
   "id": "5ff82544-0bf1-4a1a-b5e3-98655c41c26d",
   "metadata": {
    "tags": []
   },
   "outputs": [
    {
     "name": "stdout",
     "output_type": "stream",
     "text": [
      "[17, 20, 26, 31, 44, 54, 55, 77, 93]\n"
     ]
    }
   ],
   "source": [
    "\n",
    "def mergeSort(alist):\n",
    "    # print(\"Spliting \",alist)\n",
    "    if len(alist) >1:\n",
    "        mid = len(alist)//2\n",
    "        lefthalf = alist[:mid]\n",
    "        righthalf = alist[mid:]\n",
    "        mergeSort(lefthalf)\n",
    "        mergeSort(righthalf)\n",
    "        i = j = k =0 \n",
    "        while i<len(lefthalf) and j<len(righthalf):\n",
    "            if lefthalf[i] <righthalf[j]:\n",
    "                alist[k] = lefthalf[i]\n",
    "                i+=1\n",
    "            else:\n",
    "                alist[k] = righthalf[j]\n",
    "                j+=1\n",
    "            k+=1\n",
    "\n",
    "        while i<len(lefthalf):\n",
    "            alist[k] = lefthalf[i]\n",
    "            i+=1\n",
    "            j+=1\n",
    "        \n",
    "        while j<len(righthalf):\n",
    "            alist[k] = righthalf[j]\n",
    "            j+=1\n",
    "            k+=1\n",
    "    # print(f\"Merging {alist}\")\n",
    "\n",
    "alist = [54, 26, 93, 17,77,31, 44, 55, 20]\n",
    "mergeSort(alist)\n",
    "print(alist)\n"
   ]
  },
  {
   "cell_type": "markdown",
   "id": "37e2acf7-d349-4633-8dee-c585b5cf9c1f",
   "metadata": {},
   "source": [
    "## 另一个归并排序代码(更Pythonic)"
   ]
  },
  {
   "cell_type": "code",
   "execution_count": 16,
   "id": "429ac419-004f-442e-8eb0-500601b6c87d",
   "metadata": {},
   "outputs": [
    {
     "name": "stdout",
     "output_type": "stream",
     "text": [
      "[17, 20, 26, 31, 44, 54, 55, 77, 93]\n"
     ]
    }
   ],
   "source": [
    "\n",
    "def merge_sort(ls):\n",
    "    # 递归结束条件\n",
    "    if len(ls)<=1:\n",
    "        return ls\n",
    "    # 分解问题,并递归调用\n",
    "    middle = len(ls)//2\n",
    "    left = merge_sort(ls[:middle])\n",
    "    right = merge_sort(ls[middle:])\n",
    "\n",
    "    # 合并左右半部分,完成排序\n",
    "    merged = []\n",
    "    while left and right:\n",
    "        if left[0] <= right[0]:\n",
    "            merged.append(left.pop(0))\n",
    "        else:\n",
    "            merged.append(right.pop(0))\n",
    "    merged.extend(right if right else left)\n",
    "    return merged\n",
    "\n",
    "alist = [54, 26, 93, 17,77,31, 44, 55, 20]\n",
    "alist = merge_sort(alist)\n",
    "print(alist)"
   ]
  },
  {
   "cell_type": "markdown",
   "id": "95e30238-fb3c-4a1b-82a2-d0823c4978c6",
   "metadata": {},
   "source": [
    "# 507-快速排序算法及分析"
   ]
  },
  {
   "cell_type": "markdown",
   "id": "78a92859-e740-4ec5-b5f1-8b1050b2a42b",
   "metadata": {},
   "source": [
    "## 算法分析\n",
    "- 快速排序过程分为两部分,分裂和移动\n",
    "- 如果分裂总能把数据表分为相等长度的两部分,那么就是O(log n)的复杂度\n",
    "  而移动需要将每项都与中值进行比较, 还是O(n) \n",
    "  综合起来,就是O(nlog n)\n",
    "- 算法运行起来不需要额外的存储空间\n",
    "- 如果不那么幸运的话,中值所在的分裂点就过于偏离中部,造成左右两部分数据不平衡,极端情况下时间复杂度就退化到了O(n^2), 还要加上递归调用的开销(比冒泡排序还要糟糕)"
   ]
  },
  {
   "cell_type": "code",
   "execution_count": 19,
   "id": "23c2a5ba-6ebf-4640-9a63-cd2ba9236ff8",
   "metadata": {},
   "outputs": [
    {
     "name": "stdout",
     "output_type": "stream",
     "text": [
      "[17, 20, 26, 31, 44, 54, 55, 77, 93]\n"
     ]
    }
   ],
   "source": [
    "# 快速排序\n",
    "def quickSort(alist):\n",
    "    quickSortHelper(alist, 0, len(alist)-1)\n",
    "\n",
    "def quickSortHelper(alist, first, last):\n",
    "    # 基本结束条件\n",
    "    if first<last:\n",
    "        # 分裂\n",
    "        splitPoint = partition(alist, first, last)\n",
    "        # 缩小规模并调用自身\n",
    "        quickSortHelper(alist, first,splitPoint -1)\n",
    "        quickSortHelper(alist, splitPoint+1,last) \n",
    "\n",
    "\n",
    "def partition(alist,first, last):\n",
    "    pivotvalue = alist[first] # 枢钮值\n",
    "    # 左右表初值 \n",
    "    leftmark = first + 1 \n",
    "    rightmark = last\n",
    "    done = False\n",
    "    while not done:\n",
    "        # 只要左标对应的值小于等于枢纽值,就一直往右移动\n",
    "        while leftmark <=rightmark and alist[leftmark]<=pivotvalue:\n",
    "            leftmark +=1\n",
    "        # 只要右标对应的值大于等于枢纽值, 就一直往左移动\n",
    "        while alist[rightmark]>=pivotvalue and rightmark >= leftmark:\n",
    "            rightmark -= 1\n",
    "        # 如果右标小于左标对应的值,移动结束\n",
    "        if rightmark <leftmark:\n",
    "            done = True\n",
    "        # 否则交换左右标对应的值\n",
    "        else:\n",
    "            alist[leftmark], alist[rightmark] = alist[rightmark], alist[leftmark]\n",
    "    # 枢纽值放到中间位置\n",
    "    alist[first] ,alist[rightmark] = alist[rightmark], alist[first]\n",
    "    return rightmark\n",
    "\n",
    "alist = [54, 26, 93, 17,77,31, 44, 55, 20]\n",
    "quickSort(alist)\n",
    "print(alist)\n"
   ]
  },
  {
   "cell_type": "code",
   "execution_count": null,
   "id": "34dcafaf-e660-48b4-97b8-e2b47429ec3b",
   "metadata": {},
   "outputs": [],
   "source": []
  }
 ],
 "metadata": {
  "kernelspec": {
   "display_name": "Python 3 (ipykernel)",
   "language": "python",
   "name": "python3"
  },
  "language_info": {
   "codemirror_mode": {
    "name": "ipython",
    "version": 3
   },
   "file_extension": ".py",
   "mimetype": "text/x-python",
   "name": "python",
   "nbconvert_exporter": "python",
   "pygments_lexer": "ipython3",
   "version": "3.8.12"
  },
  "toc-autonumbering": true
 },
 "nbformat": 4,
 "nbformat_minor": 5
}
