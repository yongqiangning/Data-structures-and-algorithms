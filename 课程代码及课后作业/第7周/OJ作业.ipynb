{
 "cells": [
  {
   "cell_type": "markdown",
   "id": "086ee241-8911-4dea-89da-f3fe0aea9bbc",
   "metadata": {},
   "source": [
    "# 快速排序主元"
   ]
  },
  {
   "cell_type": "markdown",
   "id": "568a2db8-28e8-4e52-9807-87adda8b71d5",
   "metadata": {},
   "source": [
    "总时间限制: 1000ms 内存限制: 65536kB\n",
    "\n",
    "**描述**\n",
    "\n",
    "著名的快速排序算法里有一个经典的划分过程：我们通常采用某种方法取一个元素作为主元（中值），通过交换，把比主元小的元素放到它的左边，比主元大的元素放到它的右边。 给定划分后的N个互不相同的非负整数的排列，请问有多少个元素可能是划分前选取的主元？\n",
    "\n",
    "例如给定的排列是[1, 3, 2, 4, 5]。则：\n",
    "\n",
    "1 的左边没有元素，右边的元素都比它大，所以它可能是主元；\n",
    "\n",
    "尽管 3 的左边元素都比它小，但其右边的 2 比它小，所以它不能是主元；\n",
    "\n",
    "尽管 2 的右边元素都比它大，但其左边的 3 比它大，所以它不能是主元；\n",
    "\n",
    "类似原因，4 和 5 都可能是主元。\n",
    "\n",
    "因此，有 3 个元素可能是主元。\n",
    "\n",
    "**输入**\n",
    "\n",
    "一行数个整数的排列，由空格分隔\n",
    "输出\n",
    "在第 1 行中输出有可能是主元的元素个数；在第 2 行中按递增顺序输出这些元素，其间以 1 个空格分隔，行首尾不得有多余空格（若元素个数为0则第二行为一行空行）。\n",
    "\n",
    "**样例输入**\n",
    "```\n",
    "1 3 2 4 5\n",
    "```\n",
    "**样例输出**\n",
    "```\n",
    "3\n",
    "\n",
    "1 4 5\n",
    "```"
   ]
  },
  {
   "cell_type": "markdown",
   "id": "9f87e220-d1a9-4102-9f70-58c7496d2b34",
   "metadata": {},
   "source": [
    "## 思路"
   ]
  },
  {
   "cell_type": "markdown",
   "id": "32401212-27e5-40ac-bf4f-c9e4f47a1710",
   "metadata": {},
   "source": [
    "判断一个数是不是主元，就是看它左边的数是不是都比它小，右边的数是不是都比它大,注意split以后得到的列表中数字都是字符串,需要转成数字"
   ]
  },
  {
   "cell_type": "markdown",
   "id": "0ba0ea68-6761-4523-b2ae-e74f53be735f",
   "metadata": {},
   "source": [
    "## 代码"
   ]
  },
  {
   "cell_type": "code",
   "execution_count": 12,
   "id": "7d610cfd-c89d-4643-871f-02b0e3d9cc59",
   "metadata": {},
   "outputs": [
    {
     "name": "stdin",
     "output_type": "stream",
     "text": [
      " 1 3 2 4 5\n"
     ]
    },
    {
     "name": "stdout",
     "output_type": "stream",
     "text": [
      "3\n",
      "1 4 5\n"
     ]
    }
   ],
   "source": [
    "def ff(ls):\n",
    "    res = []\n",
    "    for i,num in enumerate(ls):\n",
    "        left = sum([j>num for j in ls[:i]])\n",
    "        right = sum([j < num for j in ls[i+1:]])\n",
    "        if left == 0 and right == 0:\n",
    "            res.append(str(num))\n",
    "        # print(f'{i} left:{left} right:{right}')\n",
    "    print(len(res))\n",
    "    print(' '.join(res))\n",
    "            \n",
    "\n",
    "ss = input()\n",
    "ls = [int(i) for i in ss.split(' ')]\n",
    "ff(ls)\n",
    "        "
   ]
  },
  {
   "cell_type": "markdown",
   "id": "579d521e-26b5-4ef6-b64c-de0a09bd88f4",
   "metadata": {},
   "source": [
    "# 第一个坏版本"
   ]
  },
  {
   "cell_type": "markdown",
   "id": "8cbdbffa-2010-4bc6-b979-6dce27d2e1f9",
   "metadata": {},
   "source": [
    "总时间限制: 1000ms 内存限制: 65536kB<br>\n",
    "**描述**<br>\n",
    "现在有同一个产品的N个版本，编号为从1至N的整数；其中从某个版本之后所有版本均已损坏。现给定一个函数isBadVersion，输入数字N可判断该版本是否损坏（若损坏将输出True）；请找出第一个损坏的版本。<br>\n",
    "\n",
    "注：有时isBadVersion函数运行速度很慢，请注意优化查找方式<br>\n",
    "\n",
    "**输入**<br>\n",
    "两行<br>\n",
    "<br>\n",
    "第一行为整数，为产品号总数N<br>\n",
    "\n",
    "第二行为给定的判断函数，使用有效的Python表达式给出，可使用eval读取<br>\n",
    "**输出**<br>\n",
    "一行数字，表示第一个损坏的版本<br>\n",
    "**样例输入**<br>\n",
    "```\n",
    "50\n",
    "lambda n:n>=30\n",
    "```\n",
    "**样例输出**<br>\n",
    "```\n",
    "30\n",
    "```\n",
    "<br>\n"
   ]
  },
  {
   "cell_type": "markdown",
   "id": "13b46c63-9881-454e-9a9d-756739ae3170",
   "metadata": {},
   "source": [
    "## 答案"
   ]
  },
  {
   "cell_type": "code",
   "execution_count": 37,
   "id": "3057b067-687b-4f20-b059-31284ce93936",
   "metadata": {},
   "outputs": [
    {
     "name": "stdin",
     "output_type": "stream",
     "text": [
      " 4000000\n",
      " lambda n:n>=30\n"
     ]
    },
    {
     "name": "stdout",
     "output_type": "stream",
     "text": [
      "30\n"
     ]
    }
   ],
   "source": [
    "N = int(input())\n",
    "isBadVersion = eval(input())\n",
    "first = 1\n",
    "last = N\n",
    "done =False\n",
    "\n",
    "while not done:\n",
    "    middle = (first+last)//2\n",
    "    res_middle = isBadVersion(middle)\n",
    "\n",
    "    if (last-first) == 1:\n",
    "        print(last)\n",
    "        done = True \n",
    "    else:\n",
    "        if res_middle==False:\n",
    "            first=middle\n",
    "        else:\n",
    "            last = middle\n",
    "            \n"
   ]
  },
  {
   "cell_type": "markdown",
   "id": "0c9bf9f1-9423-4a28-942b-e89396b398c8",
   "metadata": {
    "tags": []
   },
   "source": [
    "# 插入与归并"
   ]
  },
  {
   "cell_type": "markdown",
   "id": "81f6284c-2ecc-4ae9-8b81-08d7f83e8a81",
   "metadata": {},
   "source": [
    "总时间限制: 1000ms 内存限制: 65536kB<br>\n",
    "**描述**<br>\n",
    "给出如下定义：<br>\n",
    "\n",
    "插入排序是迭代算法，逐一获得输入数据，逐步产生有序的输出序列。每步迭代中，算法从输入序列中取出一元素，将之插入有序序列中正确的位置。如此迭代直到全部元素有序。<br>\n",
    "\n",
    "归并排序进行如下迭代操作：首先将原始序列看成 N 个只包含 1 个元素的有序子序列，然后每次迭代归并两个相邻的有序子序列，直到最后只剩下 1 个有序的序列。<br>\n",
    "\n",
    "现给定原始序列和由某排序算法产生的中间序列，请你判断该算法究竟是哪种排序算法？<br>\n",
    "\n",
    "**输入样例1**：<br>\n",
    "```\n",
    "3 1 2 8 7 5 9 4 0 6\n",
    "\n",
    "1 3 2 8 5 7 4 9 0 6\n",
    "```\n",
    "\n",
    "**输出样例**：<br>\n",
    "```\n",
    "Merge Sort\n",
    "\n",
    "1 2 3 8 4 5 7 9 0 6\n",
    "```\n",
    "**输入样例2**：<br>\n",
    "```\n",
    "3 1 2 8 7 5 9 4 6 0\n",
    "\n",
    "1 2 3 7 8 5 9 4 6 0\n",
    "```\n",
    "**输出样例2**：<br>\n",
    "```\n",
    "Insertion Sort\n",
    "\n",
    "1 2 3 5 7 8 9 4 6 0\n",
    "```\n",
    "**输入**<br>\n",
    "两行由空格分隔的数字，其对应长度相等的列表<br>\n",
    "\n",
    "其中第一行代表未排序的列表，第二行是排序算法过程中某一步的中间列表<br>\n",
    "**输出**<br>\n",
    "首先在第 1 行中输出Insertion Sort表示插入排序、或Merge Sort表示归并排序；然后在第 2 行中输出用该排序算法再迭代一轮的结果序列。题目保证每组测试的结果是唯一的。数字间以空格分隔，且行首尾不得有多余空格<br>\n",
    "**样例输入**<br>\n",
    "```\n",
    "3 1 2 8 7 5 9 4 0 6\n",
    "1 3 2 8 5 7 4 9 0 6\n",
    "```\n",
    "**样例输出**<br>\n",
    "```\n",
    "Merge Sort\n",
    "1 2 3 8 4 5 7 9 0 6\n",
    "```"
   ]
  },
  {
   "cell_type": "code",
   "execution_count": 70,
   "id": "f6be1684-95cc-48c6-bd82-bf2052c32011",
   "metadata": {},
   "outputs": [
    {
     "name": "stdin",
     "output_type": "stream",
     "text": [
      " 3 1 2 8 7 5 9 4 0 6\n",
      " 1 3 2 8 5 7 4 9 0 6\n"
     ]
    },
    {
     "name": "stdout",
     "output_type": "stream",
     "text": [
      "Merge Sort\n",
      "1 2 3 8 4 5 7 9 0 6\n"
     ]
    }
   ],
   "source": [
    "def ff(ls1,ls2):\n",
    "    t = insertionSort(ls1,ls2)\n",
    "    if not t:\n",
    "        merge_sort(ls1,ls2)\n",
    "\n",
    "def insertionSort(alist,middle_list):\n",
    "    stop = False\n",
    "    for index in range(1,len(alist)):\n",
    "        currentValue = alist[index]\n",
    "        position = index\n",
    "        while position >0 and alist[position-1]>currentValue:\n",
    "            alist[position] = alist[position-1]\n",
    "            position -= 1\n",
    "        alist[position] = currentValue\n",
    "        if stop :\n",
    "            print(' '.join(map(str,alist)))\n",
    "            return True\n",
    "        if alist == middle_list:\n",
    "            print('Insertion Sort')\n",
    "            stop = True\n",
    "\n",
    "def merge_sort(ls1,ls2):\n",
    "    ls = ls2.copy()\n",
    "    cnt = 2\n",
    "    while ls == ls2:\n",
    "        ls = [sorted(ls[i:i+cnt]) for i in range(0,len(ls),cnt)]\n",
    "        ls = [num for sub_ls in ls for num in sub_ls]\n",
    "        cnt *= 2\n",
    "    print('Merge Sort')\n",
    "    print(' '.join(map(str,ls)))\n",
    "\n",
    "# 样例2     \n",
    "# s1 = '3 1 2 8 7 5 9 4 6 0'\n",
    "# s2 = '1 2 3 7 8 5 9 4 6 0' \n",
    "\n",
    "# 样例1\n",
    "# s1 = '3 1 2 8 7 5 9 4 0 6'\n",
    "# s2 = '1 3 2 8 5 7 4 9 0 6' \n",
    "s1 = input()\n",
    "s2 = input()\n",
    "ls1 = [int(i) for i in s1.split(' ')]\n",
    "ls2 = [int(i) for i in s2.split(' ')]\n",
    "\n",
    "ff(ls1, ls2)"
   ]
  },
  {
   "cell_type": "code",
   "execution_count": null,
   "id": "45356b98-5c33-4e1f-968a-ebf4a5ee0f7d",
   "metadata": {},
   "outputs": [],
   "source": []
  }
 ],
 "metadata": {
  "kernelspec": {
   "display_name": "Python 3 (ipykernel)",
   "language": "python",
   "name": "python3"
  },
  "language_info": {
   "codemirror_mode": {
    "name": "ipython",
    "version": 3
   },
   "file_extension": ".py",
   "mimetype": "text/x-python",
   "name": "python",
   "nbconvert_exporter": "python",
   "pygments_lexer": "ipython3",
   "version": "3.8.12"
  }
 },
 "nbformat": 4,
 "nbformat_minor": 5
}
