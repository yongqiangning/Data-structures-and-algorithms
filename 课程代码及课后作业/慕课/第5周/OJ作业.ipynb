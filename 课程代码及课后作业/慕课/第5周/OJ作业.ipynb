{
 "cells": [
  {
   "cell_type": "markdown",
   "id": "ebfb2f12-f9a7-4e9e-9a03-c96f4bf7223f",
   "metadata": {},
   "source": [
    "# 进制转换"
   ]
  },
  {
   "cell_type": "markdown",
   "id": "564f5028-3edd-44fe-b89a-05ccdef31476",
   "metadata": {},
   "source": [
    "![进制转换](./picture/进制转换.png)"
   ]
  },
  {
   "cell_type": "code",
   "execution_count": null,
   "id": "4fd2062c-6d61-4914-b230-82a2789fe6dc",
   "metadata": {},
   "outputs": [],
   "source": []
  }
 ],
 "metadata": {
  "kernelspec": {
   "display_name": "Python 3 (ipykernel)",
   "language": "python",
   "name": "python3"
  },
  "language_info": {
   "codemirror_mode": {
    "name": "ipython",
    "version": 3
   },
   "file_extension": ".py",
   "mimetype": "text/x-python",
   "name": "python",
   "nbconvert_exporter": "python",
   "pygments_lexer": "ipython3",
   "version": "3.8.12"
  }
 },
 "nbformat": 4,
 "nbformat_minor": 5
}
