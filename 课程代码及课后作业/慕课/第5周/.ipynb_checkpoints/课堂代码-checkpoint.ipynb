{
 "cells": [
  {
   "cell_type": "markdown",
   "id": "0ae5ca1a-3d37-4740-9bb3-f4d2a3a00c52",
   "metadata": {},
   "source": [
    "# 402-递归的应用：任意进制转换"
   ]
  },
  {
   "cell_type": "markdown",
   "id": "0175e8ca-4498-4fe3-8355-ec9b35e321cb",
   "metadata": {},
   "source": [
    "## 任意进制转换"
   ]
  },
  {
   "cell_type": "code",
   "execution_count": 2,
   "id": "73be8708-48ca-4065-b0f3-ba0470cdc6be",
   "metadata": {},
   "outputs": [
    {
     "name": "stdout",
     "output_type": "stream",
     "text": [
      "5AD\n"
     ]
    }
   ],
   "source": [
    "def toStr(n,base):\n",
    "    convertString = '0123456789ABCDEF'\n",
    "    # 最小规模\n",
    "    if n<base: \n",
    "        return convertString[n] \n",
    "    else:\n",
    "        return toStr(n//base,base) + convertString[n%base]\n",
    "    \n",
    "\n",
    "\n",
    "print(toStr(1453,16))"
   ]
  },
  {
   "cell_type": "markdown",
   "id": "ccd3f646-3978-46a4-9b5c-582bb76aeb0b",
   "metadata": {},
   "source": [
    "# 403-递归调用的实现"
   ]
  },
  {
   "cell_type": "markdown",
   "id": "f470d412-1f1c-4ad8-9c59-219623705b3b",
   "metadata": {},
   "source": [
    "## python中递归深度的限制和调整方法"
   ]
  },
  {
   "cell_type": "code",
   "execution_count": 5,
   "id": "c619532f-4103-433a-995d-f8974c240bba",
   "metadata": {},
   "outputs": [
    {
     "name": "stdout",
     "output_type": "stream",
     "text": [
      "4000\n",
      "1000\n"
     ]
    }
   ],
   "source": [
    "import sys\n",
    "print(sys.getrecursionlimit())\n",
    "sys.setrecursionlimit(1000)\n",
    "print(sys.getrecursionlimit())"
   ]
  },
  {
   "cell_type": "markdown",
   "id": "4e2c23ca-1d77-4951-8c1d-3d8b8cc67fe2",
   "metadata": {},
   "source": [
    "# 404-递归可视化：分形树"
   ]
  },
  {
   "cell_type": "markdown",
   "id": "59c47d25-08f8-4592-aaf1-92175a03e029",
   "metadata": {},
   "source": [
    "## 海龟作图系统turtle module基本操作"
   ]
  },
  {
   "cell_type": "code",
   "execution_count": null,
   "id": "d0c90bfb-281f-45e0-92dd-4ab54222af5b",
   "metadata": {},
   "outputs": [],
   "source": [
    "# 爬行 forward(n) ;backward(n)\n",
    "# 转向 left(a) ;right(a) \n",
    "# 抬笔 放笔 penup() ;pendown()\n",
    "# 笔属性 pensize(s) ;pencolor(c)\n",
    "# 结束 done()"
   ]
  },
  {
   "cell_type": "markdown",
   "id": "ebd40b8e-980d-4547-90e8-086562a63d63",
   "metadata": {},
   "source": [
    "## 画正方形"
   ]
  },
  {
   "cell_type": "code",
   "execution_count": null,
   "id": "a92da1bf-4b1c-4647-8d55-e6906de19f33",
   "metadata": {},
   "outputs": [],
   "source": [
    "import turtle\n",
    "t = turtle.Turtle()\n",
    "for i in range(4):\n",
    "    t.forward(40)\n",
    "    t.right(90)\n",
    "turtle.done()\n",
    "\n",
    "turtle.mainloop()\n",
    "# turtle.bye() "
   ]
  },
  {
   "cell_type": "markdown",
   "id": "46e924ab-30dc-4aaa-ad3d-5c38f57af9c9",
   "metadata": {},
   "source": [
    "## 画五角星"
   ]
  },
  {
   "cell_type": "code",
   "execution_count": null,
   "id": "72624607-09ea-47cd-aa70-c74d2794a19d",
   "metadata": {},
   "outputs": [],
   "source": [
    "import turtle\n",
    "t = turtle.Turtle()\n",
    "t.pencolor('red')\n",
    "for i in range(5):\n",
    "    t.forward(100)\n",
    "    t.right(144)\n",
    "t.hideturtle()\n",
    "turtle.done()\n",
    "turtle.mainloop()\n"
   ]
  },
  {
   "cell_type": "markdown",
   "id": "baeb4dfc-7735-4fe6-94c9-8d3a3b912175",
   "metadata": {},
   "source": [
    "## 螺旋"
   ]
  },
  {
   "cell_type": "code",
   "execution_count": null,
   "id": "2dee6065-6b97-4efa-8ab3-b269f63b29dc",
   "metadata": {
    "tags": []
   },
   "outputs": [],
   "source": [
    "import turtle\n",
    "t = turtle.Turtle()\n",
    "def drawSpiral(t, lineLen):\n",
    "    if lineLen > 0:\n",
    "        t.forward(lineLen)\n",
    "        t.right(90)\n",
    "        drawSpiral(t,lineLen-5)\n",
    "        \n",
    "drawSpiral(t,100)\n",
    "turtle.done()\n",
    "turtle.mainloop()"
   ]
  },
  {
   "cell_type": "markdown",
   "id": "0dc285f3-ba65-4caf-b092-3588dfebd627",
   "metadata": {},
   "source": [
    "## 分形树"
   ]
  },
  {
   "cell_type": "code",
   "execution_count": null,
   "id": "b9fad258-ca45-4532-9fa2-fbf84e1343b3",
   "metadata": {},
   "outputs": [],
   "source": [
    "import turtle\n",
    "\n",
    "def tree(branch_len):\n",
    "    if branch_len >5: # 递归结束条件\n",
    "        t.forward(branch_len) # 树干\n",
    "        t.right(20) # 向右转向20度\n",
    "        tree(branch_len-15) # 递归调用,画右侧的树枝, 笔树干小15\n",
    "        t.left(40) # 向左回40度即树干向左转20度\n",
    "        tree(branch_len-15) # 递归调用,画左侧的树枝, 笔树干小15\n",
    "        t.right(20) # 向右回20度, 即回正\n",
    "        t.backward(branch_len)\n",
    "\n",
    "t = turtle.Turtle()\n",
    "t.left(90)\n",
    "t.penup()\n",
    "t.backward(100)\n",
    "t.pendown()\n",
    "t.pencolor('green')\n",
    "t.pensize(2)\n",
    "tree(75)\n",
    "t.hideturtle()\n",
    "turtle.done()\n",
    "turtle.mainloop()  \n",
    "        "
   ]
  },
  {
   "cell_type": "markdown",
   "id": "22053c46-828b-42fc-b77e-c271f5b73af7",
   "metadata": {},
   "source": [
    "# 405-递归可视化：谢尔宾斯基三角"
   ]
  },
  {
   "cell_type": "markdown",
   "id": "95d97333-f022-4075-b5ab-69d60c06476c",
   "metadata": {},
   "source": [
    "## 画谢尔宾斯基三角"
   ]
  },
  {
   "cell_type": "code",
   "execution_count": 3,
   "id": "38be9632-ef62-4eef-82f7-9cf358bf34b5",
   "metadata": {
    "collapsed": true,
    "jupyter": {
     "outputs_hidden": true
    },
    "tags": []
   },
   "outputs": [
    {
     "ename": "KeyboardInterrupt",
     "evalue": "",
     "output_type": "error",
     "traceback": [
      "\u001b[0;31m---------------------------------------------------------------------------\u001b[0m",
      "\u001b[0;31mKeyboardInterrupt\u001b[0m                         Traceback (most recent call last)",
      "Input \u001b[0;32mIn [3]\u001b[0m, in \u001b[0;36m<cell line: 49>\u001b[0;34m()\u001b[0m\n\u001b[1;32m     44\u001b[0m points \u001b[38;5;241m=\u001b[39m {\u001b[38;5;124m'\u001b[39m\u001b[38;5;124mleft\u001b[39m\u001b[38;5;124m'\u001b[39m:(\u001b[38;5;241m-\u001b[39m\u001b[38;5;241m200\u001b[39m,\u001b[38;5;241m-\u001b[39m\u001b[38;5;241m100\u001b[39m)\n\u001b[1;32m     45\u001b[0m          ,\u001b[38;5;124m'\u001b[39m\u001b[38;5;124mtop\u001b[39m\u001b[38;5;124m'\u001b[39m:(\u001b[38;5;241m0\u001b[39m,\u001b[38;5;241m200\u001b[39m)\n\u001b[1;32m     46\u001b[0m          ,\u001b[38;5;124m'\u001b[39m\u001b[38;5;124mright\u001b[39m\u001b[38;5;124m'\u001b[39m:(\u001b[38;5;241m200\u001b[39m, \u001b[38;5;241m-\u001b[39m\u001b[38;5;241m100\u001b[39m)}\n\u001b[1;32m     48\u001b[0m sierpinski(\u001b[38;5;241m5\u001b[39m,points)\n\u001b[0;32m---> 49\u001b[0m \u001b[43mturtle\u001b[49m\u001b[38;5;241;43m.\u001b[39;49m\u001b[43mdone\u001b[49m\u001b[43m(\u001b[49m\u001b[43m)\u001b[49m\n\u001b[1;32m     50\u001b[0m turtle\u001b[38;5;241m.\u001b[39mmainloop()\n",
      "File \u001b[0;32m<string>:8\u001b[0m, in \u001b[0;36mmainloop\u001b[0;34m()\u001b[0m\n",
      "File \u001b[0;32m~/opt/anaconda3/lib/python3.8/turtle.py:812\u001b[0m, in \u001b[0;36mTurtleScreenBase.mainloop\u001b[0;34m(self)\u001b[0m\n\u001b[1;32m    799\u001b[0m \u001b[38;5;28;01mdef\u001b[39;00m \u001b[38;5;21mmainloop\u001b[39m(\u001b[38;5;28mself\u001b[39m):\n\u001b[1;32m    800\u001b[0m     \u001b[38;5;124;03m\"\"\"Starts event loop - calling Tkinter's mainloop function.\u001b[39;00m\n\u001b[1;32m    801\u001b[0m \n\u001b[1;32m    802\u001b[0m \u001b[38;5;124;03m    No argument.\u001b[39;00m\n\u001b[0;32m   (...)\u001b[0m\n\u001b[1;32m    810\u001b[0m \n\u001b[1;32m    811\u001b[0m \u001b[38;5;124;03m    \"\"\"\u001b[39;00m\n\u001b[0;32m--> 812\u001b[0m     \u001b[38;5;28;43mself\u001b[39;49m\u001b[38;5;241;43m.\u001b[39;49m\u001b[43mcv\u001b[49m\u001b[38;5;241;43m.\u001b[39;49m\u001b[43mtk\u001b[49m\u001b[38;5;241;43m.\u001b[39;49m\u001b[43mmainloop\u001b[49m\u001b[43m(\u001b[49m\u001b[43m)\u001b[49m\n",
      "\u001b[0;31mKeyboardInterrupt\u001b[0m: "
     ]
    }
   ],
   "source": [
    "import turtle\n",
    "\n",
    "def sierpinski(degree, points):\n",
    "    colormap = ['blue','red','green','white','yellow','orange']\n",
    "    drawTriangle(points, colormap[degree])\n",
    "    if degree>0: # 结束条件\n",
    "        sierpinski(degree-1\n",
    "                  ,{ 'left':points['left']\n",
    "                    ,'top':getMid(points['left'],points['top'])\n",
    "                    ,'right':getMid(points['left'],points['right'])\n",
    "                   })\n",
    "        \n",
    "        sierpinski(degree-1\n",
    "                  ,{ 'left':getMid(points['left'],points['top'])\n",
    "                    ,'top':points['top']\n",
    "                    ,'right':getMid(points['top'],points['right'])\n",
    "                   })\n",
    "        \n",
    "        sierpinski(degree-1\n",
    "                  ,{ 'left':getMid(points['left'],points['right'])\n",
    "                    ,'top':getMid(points['top'],points['right'])\n",
    "                    ,'right':points['right']\n",
    "                   })\n",
    "        \n",
    "def drawTriangle(points, color):\n",
    "    \"\"\"\n",
    "    画三角形\n",
    "    \"\"\"\n",
    "    t.fillcolor(color)\n",
    "    t.penup()\n",
    "    t.goto(points['top'])\n",
    "    t.pendown()\n",
    "    t.begin_fill()\n",
    "    t.goto(points['left'])\n",
    "    t.goto(points['right'])\n",
    "    t.goto(points['top'])\n",
    "    t.end_fill()\n",
    "\n",
    "\n",
    "def getMid(p1, p2):\n",
    "    return (p1[0]+p2[0])/2,(p1[1]+p2[1])/2\n",
    "\n",
    "t = turtle.Turtle()\n",
    "points = {'left':(-200,-100)\n",
    "         ,'top':(0,200)\n",
    "         ,'right':(200, -100)}\n",
    "\n",
    "sierpinski(5,points)\n",
    "turtle.done()\n",
    "turtle.mainloop() "
   ]
  },
  {
   "cell_type": "markdown",
   "id": "dd073194-8ee0-41ea-a64c-8bbfcf799546",
   "metadata": {},
   "source": [
    "# 406-递归的应用：汉诺塔"
   ]
  },
  {
   "cell_type": "markdown",
   "id": "d12c24ce-2014-4db1-8db8-9a0c8090cc83",
   "metadata": {},
   "source": [
    "## 汉诺塔"
   ]
  },
  {
   "cell_type": "code",
   "execution_count": 2,
   "id": "12f873ed-0bc9-408a-8ae9-621d651702f6",
   "metadata": {},
   "outputs": [
    {
     "name": "stdout",
     "output_type": "stream",
     "text": [
      "Moveing disk[1] from #1 to #2\n",
      "Moveing disk[2] from #1 to #3\n",
      "Moveing disk[1] from #2 to #3\n",
      "Moveing disk[3] from #1 to #2\n",
      "Moveing disk[1] from #3 to #1\n",
      "Moveing disk[2] from #3 to #2\n",
      "Moveing disk[1] from #1 to #2\n",
      "Moveing disk[4] from #1 to #3\n",
      "Moveing disk[1] from #2 to #3\n",
      "Moveing disk[2] from #2 to #1\n",
      "Moveing disk[1] from #3 to #1\n",
      "Moveing disk[3] from #2 to #3\n",
      "Moveing disk[1] from #1 to #2\n",
      "Moveing disk[2] from #1 to #3\n",
      "Moveing disk[1] from #2 to #3\n"
     ]
    }
   ],
   "source": [
    "def moveTower(height, fromPole, withPole, toPole):\n",
    "    if height >=1:\n",
    "        moveTower(height-1,fromPole, toPole, withPole)\n",
    "        moveDisk(height, fromPole, toPole)\n",
    "        moveTower(height-1,withPole, fromPole, toPole)\n",
    "\n",
    "def moveDisk(disk, fromPole, toPole):\n",
    "    print(f\"Moveing disk[{disk}] from {fromPole} to {toPole}\")\n",
    "    \n",
    "moveTower(4, '#1', '#2', '#3')"
   ]
  },
  {
   "cell_type": "markdown",
   "id": "67e3581d-aa6b-4920-928d-52a49f196078",
   "metadata": {},
   "source": [
    "# 407-递归的应用：探索迷宫"
   ]
  },
  {
   "cell_type": "markdown",
   "id": "a7ce2c8e-483d-4201-99ac-b3d788aa2a36",
   "metadata": {},
   "source": [
    "## 探索迷宫\n",
    "课堂上老师展示的代码非完整代码, 下面段代码无法复现视频中的动画效果"
   ]
  },
  {
   "cell_type": "code",
   "execution_count": 6,
   "id": "3e5a32e7-5ff4-4611-9aab-ed560c730204",
   "metadata": {},
   "outputs": [],
   "source": [
    "class Maze():\n",
    "    def __init__(self,mazeFileName):\n",
    "        rowsInMaze = 0\n",
    "        columnsInMaze = 0 \n",
    "        self.mazelist = [] \n",
    "        mazeFile = open(mazeFileName,'r')\n",
    "        rowsInMaze = 0 \n",
    "        for line in mazeFile:\n",
    "            rowList = []\n",
    "            col =0 \n",
    "            for ch in line[:-1]:\n",
    "                rowList.append(ch)\n",
    "                if ch == 'S':\n",
    "                    self.startRow = rowsInMaze \n",
    "                    self.startCol = col\n",
    "                col += 1\n",
    "            rowsInMaze += 1 \n",
    "            self.mazelist.append(rowList)\n",
    "            columnsInMaze = len(rowList)\n",
    "\n",
    "def searchFrom(maze, startRow, startColumns):\n",
    "    # 1. 碰到墙壁,返回失败\n",
    "    maze.updatePosition(startRow, startColumns)\n",
    "    if maze[startRow][startColumns] == OBSTAClE:\n",
    "        return Flase\n",
    "    # 2. 碰到面包屑,或者死胡同, 返回失败\n",
    "    if maze[startRow][startColumns] == TRIED or\\\n",
    "       maze[startRow][startColumns] == DEAD_END:\n",
    "        return False\n",
    "    # 3. 碰到出口, 返回成功!\n",
    "    if maze.isExit(startRow,startColumns):\n",
    "        maze.updatePosition(startRow,startColumns,PART_OF_PATH)\n",
    "        return True\n",
    "    # 4. 洒一下面包屑, 继续探索\n",
    "    maze.updatePosition(startRow,startColumns,TRIED)\n",
    "    \n",
    "    # 向北南西东4个方向依次探索, or操作具有短路效应\n",
    "    found = searchFrom(maze, startRow-1, startColumns) or \\\n",
    "            searchFrom(maze, startRow+1, startColumns) or \\\n",
    "            searchFrom(maze, startRow, startColumns-1) or \\\n",
    "            searchFrom(maze, startRow, startColumns+1)\n",
    "    # 如果探索成功, 标记当前点, 失败标记为死胡同\n",
    "    if found:\n",
    "        maze.updatePosition(startRow,startColumns,PART_OF_PATH)\n",
    "    else:\n",
    "        maze.updatePosition(startRow,startColumns,TRIED)\n",
    "    return found \n",
    "        "
   ]
  },
  {
   "cell_type": "code",
   "execution_count": null,
   "id": "f1c357a8-7adc-4aba-98ff-8a337f7a2956",
   "metadata": {},
   "outputs": [],
   "source": []
  }
 ],
 "metadata": {
  "kernelspec": {
   "display_name": "Python 3 (ipykernel)",
   "language": "python",
   "name": "python3"
  },
  "language_info": {
   "codemirror_mode": {
    "name": "ipython",
    "version": 3
   },
   "file_extension": ".py",
   "mimetype": "text/x-python",
   "name": "python",
   "nbconvert_exporter": "python",
   "pygments_lexer": "ipython3",
   "version": "3.8.12"
  }
 },
 "nbformat": 4,
 "nbformat_minor": 5
}
