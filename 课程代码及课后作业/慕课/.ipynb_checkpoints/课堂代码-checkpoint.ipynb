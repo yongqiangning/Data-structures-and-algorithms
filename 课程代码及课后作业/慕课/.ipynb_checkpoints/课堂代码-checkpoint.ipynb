{
 "cells": [
  {
   "cell_type": "markdown",
   "id": "0ae5ca1a-3d37-4740-9bb3-f4d2a3a00c52",
   "metadata": {},
   "source": [
    "# 402-递归的应用：任意进制转换"
   ]
  },
  {
   "cell_type": "markdown",
   "id": "0175e8ca-4498-4fe3-8355-ec9b35e321cb",
   "metadata": {},
   "source": [
    "## 任意进制转换"
   ]
  },
  {
   "cell_type": "code",
   "execution_count": 2,
   "id": "73be8708-48ca-4065-b0f3-ba0470cdc6be",
   "metadata": {},
   "outputs": [
    {
     "name": "stdout",
     "output_type": "stream",
     "text": [
      "5AD\n"
     ]
    }
   ],
   "source": [
    "def toStr(n,base):\n",
    "    convertString = '0123456789ABCDEF'\n",
    "    # 最小规模\n",
    "    if n<base: \n",
    "        return convertString[n] \n",
    "    else:\n",
    "        return toStr(n//base,base) + convertString[n%base]\n",
    "    \n",
    "\n",
    "\n",
    "print(toStr(1453,16))"
   ]
  },
  {
   "cell_type": "markdown",
   "id": "ccd3f646-3978-46a4-9b5c-582bb76aeb0b",
   "metadata": {},
   "source": [
    "# 403-递归调用的实现"
   ]
  },
  {
   "cell_type": "markdown",
   "id": "f470d412-1f1c-4ad8-9c59-219623705b3b",
   "metadata": {},
   "source": [
    "## python中递归深度的限制和调整方法"
   ]
  },
  {
   "cell_type": "code",
   "execution_count": 5,
   "id": "c619532f-4103-433a-995d-f8974c240bba",
   "metadata": {},
   "outputs": [
    {
     "name": "stdout",
     "output_type": "stream",
     "text": [
      "4000\n",
      "1000\n"
     ]
    }
   ],
   "source": [
    "import sys\n",
    "print(sys.getrecursionlimit())\n",
    "sys.setrecursionlimit(1000)\n",
    "print(sys.getrecursionlimit())"
   ]
  },
  {
   "cell_type": "markdown",
   "id": "4e2c23ca-1d77-4951-8c1d-3d8b8cc67fe2",
   "metadata": {},
   "source": [
    "# 404-递归可视化：分形树"
   ]
  },
  {
   "cell_type": "markdown",
   "id": "59c47d25-08f8-4592-aaf1-92175a03e029",
   "metadata": {},
   "source": [
    "## 海龟作图系统turtle module基本操作"
   ]
  },
  {
   "cell_type": "code",
   "execution_count": null,
   "id": "d0c90bfb-281f-45e0-92dd-4ab54222af5b",
   "metadata": {},
   "outputs": [],
   "source": [
    "# 爬行 forward(n) ;backward(n)\n",
    "# 转向 left(a) ;right(a) \n",
    "# 抬笔 放笔 penup() ;pendown()\n",
    "# 笔属性 pensize(s) ;pencolor(c)\n",
    "# 结束 done()"
   ]
  },
  {
   "cell_type": "markdown",
   "id": "ebd40b8e-980d-4547-90e8-086562a63d63",
   "metadata": {},
   "source": [
    "## 画正方形"
   ]
  },
  {
   "cell_type": "code",
   "execution_count": null,
   "id": "a92da1bf-4b1c-4647-8d55-e6906de19f33",
   "metadata": {},
   "outputs": [],
   "source": [
    "import turtle\n",
    "t = turtle.Turtle()\n",
    "for i in range(4):\n",
    "    t.forward(40)\n",
    "    t.right(90)\n",
    "turtle.done()\n",
    "\n",
    "turtle.mainloop()\n",
    "# turtle.bye() "
   ]
  },
  {
   "cell_type": "markdown",
   "id": "46e924ab-30dc-4aaa-ad3d-5c38f57af9c9",
   "metadata": {},
   "source": [
    "## 画五角星"
   ]
  },
  {
   "cell_type": "code",
   "execution_count": null,
   "id": "72624607-09ea-47cd-aa70-c74d2794a19d",
   "metadata": {},
   "outputs": [],
   "source": [
    "import turtle\n",
    "t = turtle.Turtle()\n",
    "t.pencolor('red')\n",
    "for i in range(5):\n",
    "    t.forward(100)\n",
    "    t.right(144)\n",
    "t.hideturtle()\n",
    "turtle.done()\n",
    "turtle.mainloop()\n"
   ]
  },
  {
   "cell_type": "markdown",
   "id": "baeb4dfc-7735-4fe6-94c9-8d3a3b912175",
   "metadata": {},
   "source": [
    "## 螺旋"
   ]
  },
  {
   "cell_type": "code",
   "execution_count": null,
   "id": "2dee6065-6b97-4efa-8ab3-b269f63b29dc",
   "metadata": {
    "tags": []
   },
   "outputs": [],
   "source": [
    "import turtle\n",
    "t = turtle.Turtle()\n",
    "def drawSpiral(t, lineLen):\n",
    "    if lineLen > 0:\n",
    "        t.forward(lineLen)\n",
    "        t.right(90)\n",
    "        drawSpiral(t,lineLen-5)\n",
    "        \n",
    "drawSpiral(t,100)\n",
    "turtle.done()\n",
    "turtle.mainloop()"
   ]
  },
  {
   "cell_type": "markdown",
   "id": "0dc285f3-ba65-4caf-b092-3588dfebd627",
   "metadata": {},
   "source": [
    "## 分形树"
   ]
  },
  {
   "cell_type": "code",
   "execution_count": null,
   "id": "b9fad258-ca45-4532-9fa2-fbf84e1343b3",
   "metadata": {},
   "outputs": [],
   "source": [
    "import turtle\n",
    "\n",
    "def tree(branch_len):\n",
    "    if branch_len >5: # 递归结束条件\n",
    "        t.forward(branch_len) # 树干\n",
    "        t.right(20) # 向右转向20度\n",
    "        tree(branch_len-15) # 递归调用,画右侧的树枝, 笔树干小15\n",
    "        t.left(40) # 向左回40度即树干向左转20度\n",
    "        tree(branch_len-15) # 递归调用,画左侧的树枝, 笔树干小15\n",
    "        t.right(20) # 向右回20度, 即回正\n",
    "        t.backward(branch_len)\n",
    "\n",
    "t = turtle.Turtle()\n",
    "t.left(90)\n",
    "t.penup()\n",
    "t.backward(100)\n",
    "t.pendown()\n",
    "t.pencolor('green')\n",
    "t.pensize(2)\n",
    "tree(75)\n",
    "t.hideturtle()\n",
    "turtle.done()\n",
    "turtle.mainloop()  \n",
    "        "
   ]
  },
  {
   "cell_type": "code",
   "execution_count": null,
   "id": "0e3c5550-84f4-40d7-8cb7-fb736988d235",
   "metadata": {},
   "outputs": [],
   "source": []
  },
  {
   "cell_type": "code",
   "execution_count": null,
   "id": "38be9632-ef62-4eef-82f7-9cf358bf34b5",
   "metadata": {},
   "outputs": [],
   "source": []
  },
  {
   "cell_type": "code",
   "execution_count": null,
   "id": "2efc6226-3f22-4af3-ad70-030750b11835",
   "metadata": {},
   "outputs": [],
   "source": []
  }
 ],
 "metadata": {
  "kernelspec": {
   "display_name": "Python 3 (ipykernel)",
   "language": "python",
   "name": "python3"
  },
  "language_info": {
   "codemirror_mode": {
    "name": "ipython",
    "version": 3
   },
   "file_extension": ".py",
   "mimetype": "text/x-python",
   "name": "python",
   "nbconvert_exporter": "python",
   "pygments_lexer": "ipython3",
   "version": "3.8.12"
  }
 },
 "nbformat": 4,
 "nbformat_minor": 5
}
