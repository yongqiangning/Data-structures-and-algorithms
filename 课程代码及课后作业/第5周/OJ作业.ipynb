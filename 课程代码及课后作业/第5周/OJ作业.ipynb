{
 "cells": [
  {
   "cell_type": "markdown",
   "id": "ebfb2f12-f9a7-4e9e-9a03-c96f4bf7223f",
   "metadata": {},
   "source": [
    "# 进制转换"
   ]
  },
  {
   "cell_type": "markdown",
   "id": "564f5028-3edd-44fe-b89a-05ccdef31476",
   "metadata": {},
   "source": [
    "![进制转换](../picture/进制转换.png)"
   ]
  },
  {
   "cell_type": "code",
   "execution_count": 20,
   "id": "4fd2062c-6d61-4914-b230-82a2789fe6dc",
   "metadata": {},
   "outputs": [
    {
     "name": "stdin",
     "output_type": "stream",
     "text": [
      " 8 16\n",
      " 471\n"
     ]
    },
    {
     "name": "stdout",
     "output_type": "stream",
     "text": [
      "139\n"
     ]
    }
   ],
   "source": [
    "def toStr(n,base):\n",
    "    \"\"\"10进制转为任意进制\"\"\"\n",
    "    convertString = '0123456789ABCDEFGHIJKLMNOPQRSTUVWXYZ'\n",
    "    # 最小规模\n",
    "    if n<base: \n",
    "        return convertString[n] \n",
    "    else:\n",
    "        return toStr(n//base,base) + convertString[n%base]\n",
    "    \n",
    "    \n",
    "def trans(num,base,to):\n",
    "    ss = '0123456789ABCDEFGHIJKLMNOPQRSTUVWXYZ'\n",
    "    # 先将base进制转为10进制\n",
    "    num = sum([ss.find(n)*base**(len(str(num))-1-i) for i,n in enumerate(str(num))])\n",
    "    # 将10进制转为任意进制\n",
    "    num = toStr(num,to)\n",
    "    print(num)\n",
    "\n",
    "base,to = list(map(int,input().split(' ')))\n",
    "num = int(input())\n",
    "trans(num,base,to)\n",
    "# 不知道为什么, 提交到OJ一直说运行错误"
   ]
  },
  {
   "cell_type": "markdown",
   "id": "a12d7228-b63f-4ae6-b98a-8da60090c11b",
   "metadata": {},
   "source": [
    "![四柱汉诺塔](../picture/四柱汉诺塔.png)"
   ]
  },
  {
   "cell_type": "code",
   "execution_count": 3,
   "id": "cb2a401c-29f4-4c9b-8819-673eaa7c093e",
   "metadata": {},
   "outputs": [
    {
     "name": "stdin",
     "output_type": "stream",
     "text": [
      " 3\n"
     ]
    },
    {
     "name": "stdout",
     "output_type": "stream",
     "text": [
      "5\n"
     ]
    }
   ],
   "source": [
    "class Move_tower():\n",
    "    def __init__(self):\n",
    "        self.cnt = 0\n",
    "        \n",
    "    def moveTower(self,height, fromPole, withPole1, withPole2, toPole):\n",
    "        if height >=2:\n",
    "            self.moveTower(height-2,fromPole, toPole, withPole1,withPole2)\n",
    "            self.moveDisk(height-1, fromPole, withPole1)\n",
    "            self.moveDisk(height, fromPole, toPole)\n",
    "            self.moveDisk(height-1, withPole1, toPole)\n",
    "            self.moveTower(height-2,withPole2, fromPole,withPole1, toPole)\n",
    "        elif height == 1:\n",
    "            self.moveDisk(height, fromPole, toPole)\n",
    "\n",
    "    def moveDisk(self,disk, fromPole, toPole):\n",
    "        # print(f\"Moveing disk[{disk}] from {fromPole} to {toPole}\")\n",
    "        self.cnt +=1 \n",
    "\n",
    "num = int(input())\n",
    "m1 = Move_tower()\n",
    "m1.moveTower(num, '#1', '#2', '#3','#4')\n",
    "print(m1.cnt)\n",
    "\n",
    "# Time Limit Exceeded, 还是没做对"
   ]
  },
  {
   "cell_type": "markdown",
   "id": "df3b57e5-a1be-48ad-9bb4-b8cfd97a1d4b",
   "metadata": {},
   "source": [
    "![谢尔宾斯基地毯](../picture/谢尔宾斯基地毯.png)"
   ]
  },
  {
   "cell_type": "code",
   "execution_count": null,
   "id": "0072e93d-fc5a-4e88-ada1-c144a31d19f1",
   "metadata": {},
   "outputs": [],
   "source": []
  },
  {
   "cell_type": "code",
   "execution_count": null,
   "id": "9271ad10-d535-4ef4-8818-e05bbcd71323",
   "metadata": {},
   "outputs": [],
   "source": []
  },
  {
   "cell_type": "code",
   "execution_count": null,
   "id": "dcd75e25-58f8-472c-b849-de48c30cc9b4",
   "metadata": {},
   "outputs": [],
   "source": []
  },
  {
   "cell_type": "code",
   "execution_count": null,
   "id": "619c3796-f797-4dcf-b2b3-31861e9d5693",
   "metadata": {},
   "outputs": [],
   "source": []
  }
 ],
 "metadata": {
  "kernelspec": {
   "display_name": "Python 3 (ipykernel)",
   "language": "python",
   "name": "python3"
  },
  "language_info": {
   "codemirror_mode": {
    "name": "ipython",
    "version": 3
   },
   "file_extension": ".py",
   "mimetype": "text/x-python",
   "name": "python",
   "nbconvert_exporter": "python",
   "pygments_lexer": "ipython3",
   "version": "3.8.12"
  }
 },
 "nbformat": 4,
 "nbformat_minor": 5
}
