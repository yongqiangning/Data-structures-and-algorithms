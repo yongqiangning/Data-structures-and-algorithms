{
 "cells": [
  {
   "cell_type": "markdown",
   "id": "0cb166a4-3518-498f-9ff3-85df065e01e9",
   "metadata": {},
   "source": [
    "# 慕课《数算B》第5周OJ题\n",
    "\n",
    "这三道题的答案全部参考自博客[数据结构与算法Python版第五周OJ作业](https://blog.csdn.net/Divine0/article/details/105028894)"
   ]
  },
  {
   "cell_type": "markdown",
   "id": "ebfb2f12-f9a7-4e9e-9a03-c96f4bf7223f",
   "metadata": {},
   "source": [
    "# 进制转换慕课《数算B》第5周OJ题"
   ]
  },
  {
   "cell_type": "markdown",
   "id": "564f5028-3edd-44fe-b89a-05ccdef31476",
   "metadata": {},
   "source": [
    "![进制转换](../picture/进制转换.png)"
   ]
  },
  {
   "cell_type": "markdown",
   "id": "b6a1b4d5-d5f9-4117-9e6d-803d1fcf4bf0",
   "metadata": {},
   "source": [
    "## 考虑负数的情况\n",
    "这里主要需要增加一个如果输入值是负数的时候怎么处理的问题，如果不加负数的逻辑处理提交会一直报错"
   ]
  },
  {
   "cell_type": "code",
   "execution_count": 8,
   "id": "c95c6f5f-ce88-49d1-ad43-36d0192404b0",
   "metadata": {},
   "outputs": [
    {
     "name": "stdin",
     "output_type": "stream",
     "text": [
      " 10 2\n",
      " -7\n"
     ]
    },
    {
     "name": "stdout",
     "output_type": "stream",
     "text": [
      "-111\n"
     ]
    }
   ],
   "source": [
    "def toten(s, m):\n",
    "    \"\"\"\n",
    "    其他进制转为10进制\n",
    "    s:待转换的字符串\n",
    "    m:s的进制\n",
    "    \"\"\"\n",
    "    convertString = '0123456789ABCDEFGHIJKLMNOPQRSTUVWXYZ'\n",
    "    res = 0 \n",
    "    lens = 0\n",
    "    for i in s[::-1]:\n",
    "        if i in convertString:\n",
    "            num = convertString.index(i)\n",
    "            res += num*(m**lens)\n",
    "            lens+=1\n",
    "    return res\n",
    "\n",
    "def toStr(s,n):\n",
    "    convertString = '0123456789ABCDEFGHIJKLMNOPQRSTUVWXYZ'\n",
    "    \"\"\"\n",
    "    十进制转为其他进制\n",
    "    s:待转的字符串\n",
    "    n:目标进制\n",
    "    \"\"\"\n",
    "    if s<n:\n",
    "        return convertString[s]\n",
    "    else:\n",
    "        return toStr(s//n, n) + convertString[s%n]\n",
    "    \n",
    "m, n = map(int, input().split())\n",
    "S = input()\n",
    "s = toten(S, m)\n",
    "if S[0] == '-':\n",
    "    print('-' + toStr(s, n))\n",
    "else:\n",
    "    print(toStr(s, n))"
   ]
  },
  {
   "cell_type": "markdown",
   "id": "203d3d51-3a27-47d8-b693-1fdef51e12b3",
   "metadata": {},
   "source": [
    "## 考虑负数和小数点的情况"
   ]
  },
  {
   "cell_type": "code",
   "execution_count": 10,
   "id": "d619c484-d7f8-47e5-9153-d9cae5efb31a",
   "metadata": {},
   "outputs": [
    {
     "name": "stdin",
     "output_type": "stream",
     "text": [
      " 10 2\n",
      " 7\n"
     ]
    },
    {
     "name": "stdout",
     "output_type": "stream",
     "text": [
      "111\n"
     ]
    }
   ],
   "source": [
    "def tostr(s, n): # 十进制转其他进制\n",
    "    convertString = '0123456789ABCDEFGHIJKLMNOPQRSTUVWXYZ'\n",
    "    if s < n:\n",
    "        return convertString[s]\n",
    "    else:\n",
    "        return tostr(s // n, n) + convertString[s % n]\n",
    "\n",
    "\n",
    "def ftostr(s, n): # 小数十进制转其他进制\n",
    "    convertString = '0123456789ABCDEFGHIJKLMNOPQRSTUVWXYZ'\n",
    "    if s == 0:\n",
    "        return ''\n",
    "    else:\n",
    "        return convertString[int(s * n)] + ftostr((s * n) % 1, n)\n",
    "\n",
    "\n",
    "def toten(s, m): # 其他进制转十进制\n",
    "    convertString = '0123456789ABCDEFGHIJKLMNOPQRSTUVWXYZ'\n",
    "    n = 0\n",
    "    sum = 0\n",
    "    for i in s[::-1]:\n",
    "        if i in convertString:\n",
    "            i = convertString.index(i)\n",
    "            sum += i * (m ** n)\n",
    "            n += 1\n",
    "    return sum\n",
    "\n",
    "\n",
    "def ftoten(s, m): # 小数其他进制转十进制\n",
    "    convertString = '0123456789ABCDEFGHIJKLMNOPQRSTUVWXYZ'\n",
    "    n = -1\n",
    "    sum = 0\n",
    "    for i in s:\n",
    "        i = convertString.index(i)\n",
    "        sum += i * (m ** n)\n",
    "        n -= 1\n",
    "    return sum\n",
    "\n",
    "\n",
    "m, n = map(int, input().split())\n",
    "S = input()\n",
    "if '.' in S: # 判断是否带小数\n",
    "    S, B = S.split('.')\n",
    "    s = toten(S, m)\n",
    "    b = ftoten(B, m)\n",
    "    if S[0] == '-': # 判断是否为负数\n",
    "        print('-' + tostr(s, n) + '.' + ftostr(b, n))\n",
    "    else:\n",
    "        print(tostr(s, n) + '.' + ftostr(b, n))\n",
    "else:\n",
    "    s = toten(S, m)\n",
    "    if S[0] == '-':\n",
    "        print('-' + tostr(s, n))\n",
    "    else:\n",
    "        print(tostr(s, n))\n"
   ]
  },
  {
   "cell_type": "markdown",
   "id": "45b4e169-717f-4b55-a353-160285e29c63",
   "metadata": {},
   "source": [
    "# 四柱汉诺塔"
   ]
  },
  {
   "cell_type": "markdown",
   "id": "a12d7228-b63f-4ae6-b98a-8da60090c11b",
   "metadata": {},
   "source": [
    "![四柱汉诺塔](../picture/四柱汉诺塔.png)"
   ]
  },
  {
   "cell_type": "markdown",
   "id": "33eae02e-bc32-4018-b6e1-5a3d1053af16",
   "metadata": {},
   "source": [
    "## 递归解法\n",
    "ime Limit Exceeded 这是递归方法的正确解法， 但是超过了题目要求的时间长度"
   ]
  },
  {
   "cell_type": "code",
   "execution_count": 11,
   "id": "cb2a401c-29f4-4c9b-8819-673eaa7c093e",
   "metadata": {},
   "outputs": [
    {
     "name": "stdin",
     "output_type": "stream",
     "text": [
      " 4\n"
     ]
    },
    {
     "name": "stdout",
     "output_type": "stream",
     "text": [
      "9\n"
     ]
    }
   ],
   "source": [
    "class Move_tower():\n",
    "    def __init__(self):\n",
    "        self.cnt = 0\n",
    "        \n",
    "    def moveTower(self,height, fromPole, withPole1, withPole2, toPole):\n",
    "        if height >=2:\n",
    "            self.moveTower(height-2,fromPole, toPole, withPole1,withPole2)\n",
    "            self.moveDisk(height-1, fromPole, withPole1)\n",
    "            self.moveDisk(height, fromPole, toPole)\n",
    "            self.moveDisk(height-1, withPole1, toPole)\n",
    "            self.moveTower(height-2,withPole2, fromPole,withPole1, toPole)\n",
    "        elif height == 1:\n",
    "            self.moveDisk(height, fromPole, toPole)\n",
    "\n",
    "    def moveDisk(self,disk, fromPole, toPole):\n",
    "        # print(f\"Moveing disk[{disk}] from {fromPole} to {toPole}\")\n",
    "        self.cnt +=1 \n",
    "\n",
    "num = int(input())\n",
    "m1 = Move_tower()\n",
    "m1.moveTower(num, '#1', '#2', '#3','#4')\n",
    "print(m1.cnt)\n",
    "\n",
    "# Time Limit Exceeded 这是递归方法的正确解法， 但是超过了题目要求的时间长度"
   ]
  },
  {
   "cell_type": "markdown",
   "id": "94a6159d-05be-40c9-8daf-0f13eab440b6",
   "metadata": {},
   "source": [
    "## 公式法"
   ]
  },
  {
   "cell_type": "markdown",
   "id": "e4043740-1945-4127-a86f-ab1624ba5cfa",
   "metadata": {},
   "source": [
    "![四柱汉诺塔_公式法解](../picture/四柱汉诺塔_公式法解.png)"
   ]
  },
  {
   "cell_type": "code",
   "execution_count": 19,
   "id": "5cbb3efa-48c1-4745-82e7-369e91a5fbb6",
   "metadata": {},
   "outputs": [
    {
     "name": "stdin",
     "output_type": "stream",
     "text": [
      " 4\n"
     ]
    },
    {
     "name": "stdout",
     "output_type": "stream",
     "text": [
      "9\n"
     ]
    }
   ],
   "source": [
    "n = int(input())\n",
    "F = [0, 1, 3]\n",
    "if n<3:\n",
    "    print(F[n])\n",
    "else:\n",
    "    for i in range(3,n+1):\n",
    "        min_num = float('inf') \n",
    "        F.append(min_num)\n",
    "        for k in range(1,i):\n",
    "            if 2*F[k]+2**(i-k)-1 <min_num:\n",
    "                min_num = 2*F[k]+2**(i-k)-1\n",
    "        F[-1] = min_num\n",
    "    print(F[n])"
   ]
  },
  {
   "cell_type": "markdown",
   "id": "36709c12-4dba-4540-9bed-e80bc661bc09",
   "metadata": {},
   "source": [
    "# ASCII谢尔宾斯基地毯"
   ]
  },
  {
   "cell_type": "markdown",
   "id": "df3b57e5-a1be-48ad-9bb4-b8cfd97a1d4b",
   "metadata": {},
   "source": [
    "![谢尔宾斯基地毯](../picture/谢尔宾斯基地毯.png)"
   ]
  },
  {
   "cell_type": "markdown",
   "id": "b97d5807-d1bd-4323-a0f7-70ebc66f97cf",
   "metadata": {},
   "source": [
    "## 答案"
   ]
  },
  {
   "cell_type": "code",
   "execution_count": 55,
   "id": "619c3796-f797-4dcf-b2b3-31861e9d5693",
   "metadata": {},
   "outputs": [
    {
     "name": "stdin",
     "output_type": "stream",
     "text": [
      " 27\n",
      " **\n"
     ]
    },
    {
     "name": "stdout",
     "output_type": "stream",
     "text": [
      "******************************************************\n",
      "**  ****  ****  ****  ****  ****  ****  ****  ****  **\n",
      "******************************************************\n",
      "******      ************      ************      ******\n",
      "**  **      **  ****  **      **  ****  **      **  **\n",
      "******      ************      ************      ******\n",
      "******************************************************\n",
      "**  ****  ****  ****  ****  ****  ****  ****  ****  **\n",
      "******************************************************\n",
      "******************                  ******************\n",
      "**  ****  ****  **                  **  ****  ****  **\n",
      "******************                  ******************\n",
      "******      ******                  ******      ******\n",
      "**  **      **  **                  **  **      **  **\n",
      "******      ******                  ******      ******\n",
      "******************                  ******************\n",
      "**  ****  ****  **                  **  ****  ****  **\n",
      "******************                  ******************\n",
      "******************************************************\n",
      "**  ****  ****  ****  ****  ****  ****  ****  ****  **\n",
      "******************************************************\n",
      "******      ************      ************      ******\n",
      "**  **      **  ****  **      **  ****  **      **  **\n",
      "******      ************      ************      ******\n",
      "******************************************************\n",
      "**  ****  ****  ****  ****  ****  ****  ****  ****  **\n",
      "******************************************************\n"
     ]
    }
   ],
   "source": [
    "def sierpinski(N, x, y): # x，y为左上角元素在列表中的索引\n",
    "    if N >= 3:\n",
    "        n = N//3 \n",
    "        draw(N, x, y)\n",
    "        sierpinski(n, x, y)\n",
    "        sierpinski(n, x+n, y)\n",
    "        sierpinski(n, x+2*n, y)\n",
    "        sierpinski(n, x, y+n)\n",
    "        sierpinski(n, x+2*n, y+n)\n",
    "        sierpinski(n, x, y+2*n)\n",
    "        sierpinski(n, x+n, y+2*n)\n",
    "        sierpinski(n, x +2*n, y+2*n)\n",
    "\n",
    "\n",
    "def draw(N,x, y):\n",
    "    \"\"\"挖中间的子正方形空腔\n",
    "    N:方形的边长\n",
    "    L:符号的长度\n",
    "    \"\"\"\n",
    "    # 子正方形空腔的边长\n",
    "    n = N//3 \n",
    "    for i in range(x+n, x+2*n):\n",
    "        for j in range(y+n, y+2*n):\n",
    "            square[i][j] = ' '*L\n",
    "\n",
    "\n",
    "n = int(input())\n",
    "c = input()\n",
    "square = [[c for i in range(n)] for i in range(n)] # 生成实心的正方形\n",
    "L = len(c) # 所给字符串的长度等于挖空中间时所要填充的空格个数\n",
    "sierpinski(n, 0, 0)\n",
    "for i in range(n):\n",
    "    for j in range(n):\n",
    "        print(square[i][j], end='')\n",
    "    print()\n"
   ]
  },
  {
   "cell_type": "code",
   "execution_count": null,
   "id": "43b21cab-1a80-45ea-abb2-e91f36e5fe63",
   "metadata": {},
   "outputs": [],
   "source": []
  }
 ],
 "metadata": {
  "kernelspec": {
   "display_name": "Python 3 (ipykernel)",
   "language": "python",
   "name": "python3"
  },
  "language_info": {
   "codemirror_mode": {
    "name": "ipython",
    "version": 3
   },
   "file_extension": ".py",
   "mimetype": "text/x-python",
   "name": "python",
   "nbconvert_exporter": "python",
   "pygments_lexer": "ipython3",
   "version": "3.8.12"
  },
  "toc-autonumbering": true
 },
 "nbformat": 4,
 "nbformat_minor": 5
}
